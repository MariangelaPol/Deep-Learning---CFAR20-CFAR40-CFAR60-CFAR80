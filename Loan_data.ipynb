{
  "nbformat": 4,
  "nbformat_minor": 0,
  "metadata": {
    "colab": {
      "name": "Loan_data.ipynb",
      "provenance": [],
      "collapsed_sections": [],
      "authorship_tag": "ABX9TyMlKsQtQWc1gwsxIEu0pmcT",
      "include_colab_link": true
    },
    "kernelspec": {
      "name": "python3",
      "display_name": "Python 3"
    },
    "language_info": {
      "name": "python"
    }
  },
  "cells": [
    {
      "cell_type": "markdown",
      "metadata": {
        "id": "view-in-github",
        "colab_type": "text"
      },
      "source": [
        "<a href=\"https://colab.research.google.com/github/MariangelaPol/Deep-Learning---CIFAR20-CIFAR40-CIFAR60-CIFAR80/blob/main/Loan_data.ipynb\" target=\"_parent\"><img src=\"https://colab.research.google.com/assets/colab-badge.svg\" alt=\"Open In Colab\"/></a>"
      ]
    },
    {
      "cell_type": "markdown",
      "source": [
        "# **Describe the Dataset and any issues with it**"
      ],
      "metadata": {
        "id": "rTxTheyqU9Kz"
      }
    },
    {
      "cell_type": "code",
      "source": [
        "#Insterting some important libraries for the upcoming analysis\n",
        "import pandas as pd\n",
        "import numpy as np\n",
        "import seaborn as sns\n",
        "import matplotlib.pyplot as plt"
      ],
      "metadata": {
        "id": "cYVNNjfdVKl2"
      },
      "execution_count": null,
      "outputs": []
    },
    {
      "cell_type": "code",
      "source": [
        "#Inserting the dataset(loan_data) and check the first rows\n",
        "df = pd.read_csv('df.csv')\n",
        "df.head()"
      ],
      "metadata": {
        "colab": {
          "base_uri": "https://localhost:8080/",
          "height": 386
        },
        "id": "KiOZxq6xVEeZ",
        "outputId": "917f2fc2-86a4-400c-aa8f-82b293b32926"
      },
      "execution_count": null,
      "outputs": [
        {
          "output_type": "execute_result",
          "data": {
            "text/plain": [
              "                 emp_title  emp_length state homeownership  annual_income  \\\n",
              "0  global config engineer          3.0    NJ      MORTGAGE        90000.0   \n",
              "1   warehouse office clerk        10.0    HI          RENT        40000.0   \n",
              "2                 assembly         3.0    WI          RENT        40000.0   \n",
              "3         customer service         1.0    PA          RENT        30000.0   \n",
              "4     security supervisor         10.0    CA          RENT        35000.0   \n",
              "\n",
              "   verified_income  debt_to_income  annual_income_joint  \\\n",
              "0         Verified           18.01                  NaN   \n",
              "1     Not Verified            5.04                  NaN   \n",
              "2  Source Verified           21.15                  NaN   \n",
              "3     Not Verified           10.16                  NaN   \n",
              "4         Verified           57.96              57000.0   \n",
              "\n",
              "  verification_income_joint  debt_to_income_joint  ...  sub_grade  \\\n",
              "0                       NaN                   NaN  ...         C3   \n",
              "1                       NaN                   NaN  ...         C1   \n",
              "2                       NaN                   NaN  ...         D1   \n",
              "3                       NaN                   NaN  ...         A3   \n",
              "4                  Verified                 37.66  ...         C3   \n",
              "\n",
              "   issue_month  loan_status  initial_listing_status  disbursement_method  \\\n",
              "0     Mar-2018      Current                   whole                 Cash   \n",
              "1     Feb-2018      Current                   whole                 Cash   \n",
              "2     Feb-2018      Current              fractional                 Cash   \n",
              "3     Jan-2018      Current                   whole                 Cash   \n",
              "4     Mar-2018      Current                   whole                 Cash   \n",
              "\n",
              "    balance  paid_total  paid_principal  paid_interest  paid_late_fees  \n",
              "0  27015.86     1999.33          984.14        1015.19             0.0  \n",
              "1   4651.37      499.12          348.63         150.49             0.0  \n",
              "2   1824.63      281.80          175.37         106.43             0.0  \n",
              "3  18853.26     3312.89         2746.74         566.15             0.0  \n",
              "4  21430.15     2324.65         1569.85         754.80             0.0  \n",
              "\n",
              "[5 rows x 55 columns]"
            ],
            "text/html": [
              "\n",
              "  <div id=\"df-a1e030e5-8fa6-4b9e-9d3e-e8d3357fc659\">\n",
              "    <div class=\"colab-df-container\">\n",
              "      <div>\n",
              "<style scoped>\n",
              "    .dataframe tbody tr th:only-of-type {\n",
              "        vertical-align: middle;\n",
              "    }\n",
              "\n",
              "    .dataframe tbody tr th {\n",
              "        vertical-align: top;\n",
              "    }\n",
              "\n",
              "    .dataframe thead th {\n",
              "        text-align: right;\n",
              "    }\n",
              "</style>\n",
              "<table border=\"1\" class=\"dataframe\">\n",
              "  <thead>\n",
              "    <tr style=\"text-align: right;\">\n",
              "      <th></th>\n",
              "      <th>emp_title</th>\n",
              "      <th>emp_length</th>\n",
              "      <th>state</th>\n",
              "      <th>homeownership</th>\n",
              "      <th>annual_income</th>\n",
              "      <th>verified_income</th>\n",
              "      <th>debt_to_income</th>\n",
              "      <th>annual_income_joint</th>\n",
              "      <th>verification_income_joint</th>\n",
              "      <th>debt_to_income_joint</th>\n",
              "      <th>...</th>\n",
              "      <th>sub_grade</th>\n",
              "      <th>issue_month</th>\n",
              "      <th>loan_status</th>\n",
              "      <th>initial_listing_status</th>\n",
              "      <th>disbursement_method</th>\n",
              "      <th>balance</th>\n",
              "      <th>paid_total</th>\n",
              "      <th>paid_principal</th>\n",
              "      <th>paid_interest</th>\n",
              "      <th>paid_late_fees</th>\n",
              "    </tr>\n",
              "  </thead>\n",
              "  <tbody>\n",
              "    <tr>\n",
              "      <th>0</th>\n",
              "      <td>global config engineer</td>\n",
              "      <td>3.0</td>\n",
              "      <td>NJ</td>\n",
              "      <td>MORTGAGE</td>\n",
              "      <td>90000.0</td>\n",
              "      <td>Verified</td>\n",
              "      <td>18.01</td>\n",
              "      <td>NaN</td>\n",
              "      <td>NaN</td>\n",
              "      <td>NaN</td>\n",
              "      <td>...</td>\n",
              "      <td>C3</td>\n",
              "      <td>Mar-2018</td>\n",
              "      <td>Current</td>\n",
              "      <td>whole</td>\n",
              "      <td>Cash</td>\n",
              "      <td>27015.86</td>\n",
              "      <td>1999.33</td>\n",
              "      <td>984.14</td>\n",
              "      <td>1015.19</td>\n",
              "      <td>0.0</td>\n",
              "    </tr>\n",
              "    <tr>\n",
              "      <th>1</th>\n",
              "      <td>warehouse office clerk</td>\n",
              "      <td>10.0</td>\n",
              "      <td>HI</td>\n",
              "      <td>RENT</td>\n",
              "      <td>40000.0</td>\n",
              "      <td>Not Verified</td>\n",
              "      <td>5.04</td>\n",
              "      <td>NaN</td>\n",
              "      <td>NaN</td>\n",
              "      <td>NaN</td>\n",
              "      <td>...</td>\n",
              "      <td>C1</td>\n",
              "      <td>Feb-2018</td>\n",
              "      <td>Current</td>\n",
              "      <td>whole</td>\n",
              "      <td>Cash</td>\n",
              "      <td>4651.37</td>\n",
              "      <td>499.12</td>\n",
              "      <td>348.63</td>\n",
              "      <td>150.49</td>\n",
              "      <td>0.0</td>\n",
              "    </tr>\n",
              "    <tr>\n",
              "      <th>2</th>\n",
              "      <td>assembly</td>\n",
              "      <td>3.0</td>\n",
              "      <td>WI</td>\n",
              "      <td>RENT</td>\n",
              "      <td>40000.0</td>\n",
              "      <td>Source Verified</td>\n",
              "      <td>21.15</td>\n",
              "      <td>NaN</td>\n",
              "      <td>NaN</td>\n",
              "      <td>NaN</td>\n",
              "      <td>...</td>\n",
              "      <td>D1</td>\n",
              "      <td>Feb-2018</td>\n",
              "      <td>Current</td>\n",
              "      <td>fractional</td>\n",
              "      <td>Cash</td>\n",
              "      <td>1824.63</td>\n",
              "      <td>281.80</td>\n",
              "      <td>175.37</td>\n",
              "      <td>106.43</td>\n",
              "      <td>0.0</td>\n",
              "    </tr>\n",
              "    <tr>\n",
              "      <th>3</th>\n",
              "      <td>customer service</td>\n",
              "      <td>1.0</td>\n",
              "      <td>PA</td>\n",
              "      <td>RENT</td>\n",
              "      <td>30000.0</td>\n",
              "      <td>Not Verified</td>\n",
              "      <td>10.16</td>\n",
              "      <td>NaN</td>\n",
              "      <td>NaN</td>\n",
              "      <td>NaN</td>\n",
              "      <td>...</td>\n",
              "      <td>A3</td>\n",
              "      <td>Jan-2018</td>\n",
              "      <td>Current</td>\n",
              "      <td>whole</td>\n",
              "      <td>Cash</td>\n",
              "      <td>18853.26</td>\n",
              "      <td>3312.89</td>\n",
              "      <td>2746.74</td>\n",
              "      <td>566.15</td>\n",
              "      <td>0.0</td>\n",
              "    </tr>\n",
              "    <tr>\n",
              "      <th>4</th>\n",
              "      <td>security supervisor</td>\n",
              "      <td>10.0</td>\n",
              "      <td>CA</td>\n",
              "      <td>RENT</td>\n",
              "      <td>35000.0</td>\n",
              "      <td>Verified</td>\n",
              "      <td>57.96</td>\n",
              "      <td>57000.0</td>\n",
              "      <td>Verified</td>\n",
              "      <td>37.66</td>\n",
              "      <td>...</td>\n",
              "      <td>C3</td>\n",
              "      <td>Mar-2018</td>\n",
              "      <td>Current</td>\n",
              "      <td>whole</td>\n",
              "      <td>Cash</td>\n",
              "      <td>21430.15</td>\n",
              "      <td>2324.65</td>\n",
              "      <td>1569.85</td>\n",
              "      <td>754.80</td>\n",
              "      <td>0.0</td>\n",
              "    </tr>\n",
              "  </tbody>\n",
              "</table>\n",
              "<p>5 rows × 55 columns</p>\n",
              "</div>\n",
              "      <button class=\"colab-df-convert\" onclick=\"convertToInteractive('df-a1e030e5-8fa6-4b9e-9d3e-e8d3357fc659')\"\n",
              "              title=\"Convert this dataframe to an interactive table.\"\n",
              "              style=\"display:none;\">\n",
              "        \n",
              "  <svg xmlns=\"http://www.w3.org/2000/svg\" height=\"24px\"viewBox=\"0 0 24 24\"\n",
              "       width=\"24px\">\n",
              "    <path d=\"M0 0h24v24H0V0z\" fill=\"none\"/>\n",
              "    <path d=\"M18.56 5.44l.94 2.06.94-2.06 2.06-.94-2.06-.94-.94-2.06-.94 2.06-2.06.94zm-11 1L8.5 8.5l.94-2.06 2.06-.94-2.06-.94L8.5 2.5l-.94 2.06-2.06.94zm10 10l.94 2.06.94-2.06 2.06-.94-2.06-.94-.94-2.06-.94 2.06-2.06.94z\"/><path d=\"M17.41 7.96l-1.37-1.37c-.4-.4-.92-.59-1.43-.59-.52 0-1.04.2-1.43.59L10.3 9.45l-7.72 7.72c-.78.78-.78 2.05 0 2.83L4 21.41c.39.39.9.59 1.41.59.51 0 1.02-.2 1.41-.59l7.78-7.78 2.81-2.81c.8-.78.8-2.07 0-2.86zM5.41 20L4 18.59l7.72-7.72 1.47 1.35L5.41 20z\"/>\n",
              "  </svg>\n",
              "      </button>\n",
              "      \n",
              "  <style>\n",
              "    .colab-df-container {\n",
              "      display:flex;\n",
              "      flex-wrap:wrap;\n",
              "      gap: 12px;\n",
              "    }\n",
              "\n",
              "    .colab-df-convert {\n",
              "      background-color: #E8F0FE;\n",
              "      border: none;\n",
              "      border-radius: 50%;\n",
              "      cursor: pointer;\n",
              "      display: none;\n",
              "      fill: #1967D2;\n",
              "      height: 32px;\n",
              "      padding: 0 0 0 0;\n",
              "      width: 32px;\n",
              "    }\n",
              "\n",
              "    .colab-df-convert:hover {\n",
              "      background-color: #E2EBFA;\n",
              "      box-shadow: 0px 1px 2px rgba(60, 64, 67, 0.3), 0px 1px 3px 1px rgba(60, 64, 67, 0.15);\n",
              "      fill: #174EA6;\n",
              "    }\n",
              "\n",
              "    [theme=dark] .colab-df-convert {\n",
              "      background-color: #3B4455;\n",
              "      fill: #D2E3FC;\n",
              "    }\n",
              "\n",
              "    [theme=dark] .colab-df-convert:hover {\n",
              "      background-color: #434B5C;\n",
              "      box-shadow: 0px 1px 3px 1px rgba(0, 0, 0, 0.15);\n",
              "      filter: drop-shadow(0px 1px 2px rgba(0, 0, 0, 0.3));\n",
              "      fill: #FFFFFF;\n",
              "    }\n",
              "  </style>\n",
              "\n",
              "      <script>\n",
              "        const buttonEl =\n",
              "          document.querySelector('#df-a1e030e5-8fa6-4b9e-9d3e-e8d3357fc659 button.colab-df-convert');\n",
              "        buttonEl.style.display =\n",
              "          google.colab.kernel.accessAllowed ? 'block' : 'none';\n",
              "\n",
              "        async function convertToInteractive(key) {\n",
              "          const element = document.querySelector('#df-a1e030e5-8fa6-4b9e-9d3e-e8d3357fc659');\n",
              "          const dataTable =\n",
              "            await google.colab.kernel.invokeFunction('convertToInteractive',\n",
              "                                                     [key], {});\n",
              "          if (!dataTable) return;\n",
              "\n",
              "          const docLinkHtml = 'Like what you see? Visit the ' +\n",
              "            '<a target=\"_blank\" href=https://colab.research.google.com/notebooks/data_table.ipynb>data table notebook</a>'\n",
              "            + ' to learn more about interactive tables.';\n",
              "          element.innerHTML = '';\n",
              "          dataTable['output_type'] = 'display_data';\n",
              "          await google.colab.output.renderOutput(dataTable, element);\n",
              "          const docLink = document.createElement('div');\n",
              "          docLink.innerHTML = docLinkHtml;\n",
              "          element.appendChild(docLink);\n",
              "        }\n",
              "      </script>\n",
              "    </div>\n",
              "  </div>\n",
              "  "
            ]
          },
          "metadata": {},
          "execution_count": 434
        }
      ]
    },
    {
      "cell_type": "code",
      "source": [
        "#This dataset contains 10000 rows and 55 columns.\n",
        "df.shape"
      ],
      "metadata": {
        "colab": {
          "base_uri": "https://localhost:8080/"
        },
        "id": "krQ3fhaWWFhn",
        "outputId": "21bd4b72-2c4d-4f1a-b089-dd14377392ff"
      },
      "execution_count": null,
      "outputs": [
        {
          "output_type": "execute_result",
          "data": {
            "text/plain": [
              "(10000, 55)"
            ]
          },
          "metadata": {},
          "execution_count": 435
        }
      ]
    },
    {
      "cell_type": "code",
      "source": [
        "#Find some valuable first inputs with one glance\n",
        "df.describe().T"
      ],
      "metadata": {
        "colab": {
          "base_uri": "https://localhost:8080/",
          "height": 1000
        },
        "id": "Wm8acP-_Vhno",
        "outputId": "717934f9-5825-43fe-d4e3-5de07c4020a4"
      },
      "execution_count": null,
      "outputs": [
        {
          "output_type": "execute_result",
          "data": {
            "text/plain": [
              "                                    count           mean            std  \\\n",
              "emp_length                         9183.0       5.930306       3.703734   \n",
              "annual_income                     10000.0   79222.148412   64734.290492   \n",
              "debt_to_income                     9976.0      19.308192      15.004851   \n",
              "annual_income_joint                1495.0  127914.571244   70168.375404   \n",
              "debt_to_income_joint               1495.0      19.979304       8.054781   \n",
              "delinq_2y                         10000.0       0.216000       0.683660   \n",
              "months_since_last_delinq           4342.0      36.760709      21.634939   \n",
              "earliest_credit_line              10000.0    2001.290000       7.795510   \n",
              "inquiries_last_12m                10000.0       1.958200       2.380130   \n",
              "total_credit_lines                10000.0      22.679600      11.885439   \n",
              "open_credit_lines                 10000.0      11.404400       5.868280   \n",
              "total_credit_limit                10000.0  183606.230400  187632.707777   \n",
              "total_credit_utilized             10000.0   51049.063100   53636.731172   \n",
              "num_collections_last_12m          10000.0       0.013800       0.126535   \n",
              "num_historical_failed_to_pay      10000.0       0.167100       0.687768   \n",
              "months_since_90d_late              2285.0      46.112473      21.748021   \n",
              "current_accounts_delinq           10000.0       0.000100       0.010000   \n",
              "total_collection_amount_ever      10000.0     184.334000    2206.389859   \n",
              "current_installment_accounts      10000.0       2.663600       2.935387   \n",
              "accounts_opened_24m               10000.0       4.376100       3.158583   \n",
              "months_since_last_credit_inquiry   8729.0       7.340703       5.981590   \n",
              "num_satisfactory_accounts         10000.0      11.379600       5.859705   \n",
              "num_accounts_120d_past_due         9682.0       0.000000       0.000000   \n",
              "num_accounts_30d_past_due         10000.0       0.000100       0.010000   \n",
              "num_active_debit_accounts         10000.0       3.595300       2.434689   \n",
              "total_debit_limit                 10000.0   27357.410300   26570.164081   \n",
              "num_total_cc_accounts             10000.0      13.030000       7.874713   \n",
              "num_open_cc_accounts              10000.0       8.095000       4.906606   \n",
              "num_cc_carrying_balance           10000.0       5.230500       3.327623   \n",
              "num_mort_accounts                 10000.0       1.383100       1.717274   \n",
              "account_never_delinq_percent      10000.0      94.648990       9.155059   \n",
              "tax_liens                         10000.0       0.043300       0.593852   \n",
              "public_record_bankrupt            10000.0       0.123800       0.337172   \n",
              "loan_amount                       10000.0   16361.922500   10301.956759   \n",
              "term                              10000.0      43.272000      11.029877   \n",
              "interest_rate                     10000.0      12.427524       5.001105   \n",
              "installment                       10000.0     476.205323     294.851627   \n",
              "balance                           10000.0   14458.916610    9964.561865   \n",
              "paid_total                        10000.0    2494.234773    3958.230365   \n",
              "paid_principal                    10000.0    1894.448466    3884.407175   \n",
              "paid_interest                     10000.0     599.666781     517.328062   \n",
              "paid_late_fees                    10000.0       0.119516       1.813468   \n",
              "\n",
              "                                       min         25%         50%  \\\n",
              "emp_length                            0.00      2.0000       6.000   \n",
              "annual_income                         0.00  45000.0000   65000.000   \n",
              "debt_to_income                        0.00     11.0575      17.570   \n",
              "annual_income_joint               19200.00  86833.5000  113000.000   \n",
              "debt_to_income_joint                  0.32     14.1600      19.720   \n",
              "delinq_2y                             0.00      0.0000       0.000   \n",
              "months_since_last_delinq              1.00     19.0000      34.000   \n",
              "earliest_credit_line               1963.00   1997.0000    2003.000   \n",
              "inquiries_last_12m                    0.00      0.0000       1.000   \n",
              "total_credit_lines                    2.00     14.0000      21.000   \n",
              "open_credit_lines                     0.00      7.0000      10.000   \n",
              "total_credit_limit                    0.00  51593.7500  114667.000   \n",
              "total_credit_utilized                 0.00  19185.5000   36927.000   \n",
              "num_collections_last_12m              0.00      0.0000       0.000   \n",
              "num_historical_failed_to_pay          0.00      0.0000       0.000   \n",
              "months_since_90d_late                 2.00     29.0000      47.000   \n",
              "current_accounts_delinq               0.00      0.0000       0.000   \n",
              "total_collection_amount_ever          0.00      0.0000       0.000   \n",
              "current_installment_accounts          0.00      1.0000       2.000   \n",
              "accounts_opened_24m                   0.00      2.0000       4.000   \n",
              "months_since_last_credit_inquiry      0.00      2.0000       6.000   \n",
              "num_satisfactory_accounts             0.00      7.0000      10.000   \n",
              "num_accounts_120d_past_due            0.00      0.0000       0.000   \n",
              "num_accounts_30d_past_due             0.00      0.0000       0.000   \n",
              "num_active_debit_accounts             0.00      2.0000       3.000   \n",
              "total_debit_limit                     0.00  10000.0000   19500.000   \n",
              "num_total_cc_accounts                 2.00      7.0000      11.000   \n",
              "num_open_cc_accounts                  0.00      5.0000       7.000   \n",
              "num_cc_carrying_balance               0.00      3.0000       5.000   \n",
              "num_mort_accounts                     0.00      0.0000       1.000   \n",
              "account_never_delinq_percent         14.30     92.6000     100.000   \n",
              "tax_liens                             0.00      0.0000       0.000   \n",
              "public_record_bankrupt                0.00      0.0000       0.000   \n",
              "loan_amount                        1000.00   8000.0000   14500.000   \n",
              "term                                 36.00     36.0000      36.000   \n",
              "interest_rate                         5.31      9.4300      11.980   \n",
              "installment                          30.75    256.0400     398.420   \n",
              "balance                               0.00   6679.0650   12379.495   \n",
              "paid_total                            0.00    928.7000    1563.300   \n",
              "paid_principal                        0.00    587.1000     984.990   \n",
              "paid_interest                         0.00    221.7575     446.140   \n",
              "paid_late_fees                        0.00      0.0000       0.000   \n",
              "\n",
              "                                          75%           max  \n",
              "emp_length                            10.0000  1.000000e+01  \n",
              "annual_income                      95000.0000  2.300000e+06  \n",
              "debt_to_income                        25.0025  4.690900e+02  \n",
              "annual_income_joint               151545.5000  1.100000e+06  \n",
              "debt_to_income_joint                  25.5000  3.998000e+01  \n",
              "delinq_2y                              0.0000  1.300000e+01  \n",
              "months_since_last_delinq              53.0000  1.180000e+02  \n",
              "earliest_credit_line                2006.0000  2.015000e+03  \n",
              "inquiries_last_12m                     3.0000  2.900000e+01  \n",
              "total_credit_lines                    29.0000  8.700000e+01  \n",
              "open_credit_lines                     14.0000  5.100000e+01  \n",
              "total_credit_limit                267550.0000  3.386034e+06  \n",
              "total_credit_utilized              65421.0000  9.424560e+05  \n",
              "num_collections_last_12m               0.0000  3.000000e+00  \n",
              "num_historical_failed_to_pay           0.0000  5.200000e+01  \n",
              "months_since_90d_late                 63.0000  1.280000e+02  \n",
              "current_accounts_delinq                0.0000  1.000000e+00  \n",
              "total_collection_amount_ever           0.0000  1.993080e+05  \n",
              "current_installment_accounts           3.0000  3.500000e+01  \n",
              "accounts_opened_24m                    6.0000  2.900000e+01  \n",
              "months_since_last_credit_inquiry      11.0000  2.400000e+01  \n",
              "num_satisfactory_accounts             14.0000  5.100000e+01  \n",
              "num_accounts_120d_past_due             0.0000  0.000000e+00  \n",
              "num_accounts_30d_past_due              0.0000  1.000000e+00  \n",
              "num_active_debit_accounts              5.0000  3.200000e+01  \n",
              "total_debit_limit                  36100.0000  3.867000e+05  \n",
              "num_total_cc_accounts                 17.0000  6.600000e+01  \n",
              "num_open_cc_accounts                  10.0000  4.600000e+01  \n",
              "num_cc_carrying_balance                7.0000  4.300000e+01  \n",
              "num_mort_accounts                      2.0000  1.400000e+01  \n",
              "account_never_delinq_percent         100.0000  1.000000e+02  \n",
              "tax_liens                              0.0000  5.200000e+01  \n",
              "public_record_bankrupt                 0.0000  3.000000e+00  \n",
              "loan_amount                        24000.0000  4.000000e+04  \n",
              "term                                  60.0000  6.000000e+01  \n",
              "interest_rate                         15.0500  3.094000e+01  \n",
              "installment                          644.6900  1.566590e+03  \n",
              "balance                            20690.1825  4.000000e+04  \n",
              "paid_total                          2616.0050  4.163044e+04  \n",
              "paid_principal                      1694.5550  4.000000e+04  \n",
              "paid_interest                        825.4200  4.216440e+03  \n",
              "paid_late_fees                         0.0000  5.298000e+01  "
            ],
            "text/html": [
              "\n",
              "  <div id=\"df-7865eb4f-04fa-48d8-902f-78ed542c9cdd\">\n",
              "    <div class=\"colab-df-container\">\n",
              "      <div>\n",
              "<style scoped>\n",
              "    .dataframe tbody tr th:only-of-type {\n",
              "        vertical-align: middle;\n",
              "    }\n",
              "\n",
              "    .dataframe tbody tr th {\n",
              "        vertical-align: top;\n",
              "    }\n",
              "\n",
              "    .dataframe thead th {\n",
              "        text-align: right;\n",
              "    }\n",
              "</style>\n",
              "<table border=\"1\" class=\"dataframe\">\n",
              "  <thead>\n",
              "    <tr style=\"text-align: right;\">\n",
              "      <th></th>\n",
              "      <th>count</th>\n",
              "      <th>mean</th>\n",
              "      <th>std</th>\n",
              "      <th>min</th>\n",
              "      <th>25%</th>\n",
              "      <th>50%</th>\n",
              "      <th>75%</th>\n",
              "      <th>max</th>\n",
              "    </tr>\n",
              "  </thead>\n",
              "  <tbody>\n",
              "    <tr>\n",
              "      <th>emp_length</th>\n",
              "      <td>9183.0</td>\n",
              "      <td>5.930306</td>\n",
              "      <td>3.703734</td>\n",
              "      <td>0.00</td>\n",
              "      <td>2.0000</td>\n",
              "      <td>6.000</td>\n",
              "      <td>10.0000</td>\n",
              "      <td>1.000000e+01</td>\n",
              "    </tr>\n",
              "    <tr>\n",
              "      <th>annual_income</th>\n",
              "      <td>10000.0</td>\n",
              "      <td>79222.148412</td>\n",
              "      <td>64734.290492</td>\n",
              "      <td>0.00</td>\n",
              "      <td>45000.0000</td>\n",
              "      <td>65000.000</td>\n",
              "      <td>95000.0000</td>\n",
              "      <td>2.300000e+06</td>\n",
              "    </tr>\n",
              "    <tr>\n",
              "      <th>debt_to_income</th>\n",
              "      <td>9976.0</td>\n",
              "      <td>19.308192</td>\n",
              "      <td>15.004851</td>\n",
              "      <td>0.00</td>\n",
              "      <td>11.0575</td>\n",
              "      <td>17.570</td>\n",
              "      <td>25.0025</td>\n",
              "      <td>4.690900e+02</td>\n",
              "    </tr>\n",
              "    <tr>\n",
              "      <th>annual_income_joint</th>\n",
              "      <td>1495.0</td>\n",
              "      <td>127914.571244</td>\n",
              "      <td>70168.375404</td>\n",
              "      <td>19200.00</td>\n",
              "      <td>86833.5000</td>\n",
              "      <td>113000.000</td>\n",
              "      <td>151545.5000</td>\n",
              "      <td>1.100000e+06</td>\n",
              "    </tr>\n",
              "    <tr>\n",
              "      <th>debt_to_income_joint</th>\n",
              "      <td>1495.0</td>\n",
              "      <td>19.979304</td>\n",
              "      <td>8.054781</td>\n",
              "      <td>0.32</td>\n",
              "      <td>14.1600</td>\n",
              "      <td>19.720</td>\n",
              "      <td>25.5000</td>\n",
              "      <td>3.998000e+01</td>\n",
              "    </tr>\n",
              "    <tr>\n",
              "      <th>delinq_2y</th>\n",
              "      <td>10000.0</td>\n",
              "      <td>0.216000</td>\n",
              "      <td>0.683660</td>\n",
              "      <td>0.00</td>\n",
              "      <td>0.0000</td>\n",
              "      <td>0.000</td>\n",
              "      <td>0.0000</td>\n",
              "      <td>1.300000e+01</td>\n",
              "    </tr>\n",
              "    <tr>\n",
              "      <th>months_since_last_delinq</th>\n",
              "      <td>4342.0</td>\n",
              "      <td>36.760709</td>\n",
              "      <td>21.634939</td>\n",
              "      <td>1.00</td>\n",
              "      <td>19.0000</td>\n",
              "      <td>34.000</td>\n",
              "      <td>53.0000</td>\n",
              "      <td>1.180000e+02</td>\n",
              "    </tr>\n",
              "    <tr>\n",
              "      <th>earliest_credit_line</th>\n",
              "      <td>10000.0</td>\n",
              "      <td>2001.290000</td>\n",
              "      <td>7.795510</td>\n",
              "      <td>1963.00</td>\n",
              "      <td>1997.0000</td>\n",
              "      <td>2003.000</td>\n",
              "      <td>2006.0000</td>\n",
              "      <td>2.015000e+03</td>\n",
              "    </tr>\n",
              "    <tr>\n",
              "      <th>inquiries_last_12m</th>\n",
              "      <td>10000.0</td>\n",
              "      <td>1.958200</td>\n",
              "      <td>2.380130</td>\n",
              "      <td>0.00</td>\n",
              "      <td>0.0000</td>\n",
              "      <td>1.000</td>\n",
              "      <td>3.0000</td>\n",
              "      <td>2.900000e+01</td>\n",
              "    </tr>\n",
              "    <tr>\n",
              "      <th>total_credit_lines</th>\n",
              "      <td>10000.0</td>\n",
              "      <td>22.679600</td>\n",
              "      <td>11.885439</td>\n",
              "      <td>2.00</td>\n",
              "      <td>14.0000</td>\n",
              "      <td>21.000</td>\n",
              "      <td>29.0000</td>\n",
              "      <td>8.700000e+01</td>\n",
              "    </tr>\n",
              "    <tr>\n",
              "      <th>open_credit_lines</th>\n",
              "      <td>10000.0</td>\n",
              "      <td>11.404400</td>\n",
              "      <td>5.868280</td>\n",
              "      <td>0.00</td>\n",
              "      <td>7.0000</td>\n",
              "      <td>10.000</td>\n",
              "      <td>14.0000</td>\n",
              "      <td>5.100000e+01</td>\n",
              "    </tr>\n",
              "    <tr>\n",
              "      <th>total_credit_limit</th>\n",
              "      <td>10000.0</td>\n",
              "      <td>183606.230400</td>\n",
              "      <td>187632.707777</td>\n",
              "      <td>0.00</td>\n",
              "      <td>51593.7500</td>\n",
              "      <td>114667.000</td>\n",
              "      <td>267550.0000</td>\n",
              "      <td>3.386034e+06</td>\n",
              "    </tr>\n",
              "    <tr>\n",
              "      <th>total_credit_utilized</th>\n",
              "      <td>10000.0</td>\n",
              "      <td>51049.063100</td>\n",
              "      <td>53636.731172</td>\n",
              "      <td>0.00</td>\n",
              "      <td>19185.5000</td>\n",
              "      <td>36927.000</td>\n",
              "      <td>65421.0000</td>\n",
              "      <td>9.424560e+05</td>\n",
              "    </tr>\n",
              "    <tr>\n",
              "      <th>num_collections_last_12m</th>\n",
              "      <td>10000.0</td>\n",
              "      <td>0.013800</td>\n",
              "      <td>0.126535</td>\n",
              "      <td>0.00</td>\n",
              "      <td>0.0000</td>\n",
              "      <td>0.000</td>\n",
              "      <td>0.0000</td>\n",
              "      <td>3.000000e+00</td>\n",
              "    </tr>\n",
              "    <tr>\n",
              "      <th>num_historical_failed_to_pay</th>\n",
              "      <td>10000.0</td>\n",
              "      <td>0.167100</td>\n",
              "      <td>0.687768</td>\n",
              "      <td>0.00</td>\n",
              "      <td>0.0000</td>\n",
              "      <td>0.000</td>\n",
              "      <td>0.0000</td>\n",
              "      <td>5.200000e+01</td>\n",
              "    </tr>\n",
              "    <tr>\n",
              "      <th>months_since_90d_late</th>\n",
              "      <td>2285.0</td>\n",
              "      <td>46.112473</td>\n",
              "      <td>21.748021</td>\n",
              "      <td>2.00</td>\n",
              "      <td>29.0000</td>\n",
              "      <td>47.000</td>\n",
              "      <td>63.0000</td>\n",
              "      <td>1.280000e+02</td>\n",
              "    </tr>\n",
              "    <tr>\n",
              "      <th>current_accounts_delinq</th>\n",
              "      <td>10000.0</td>\n",
              "      <td>0.000100</td>\n",
              "      <td>0.010000</td>\n",
              "      <td>0.00</td>\n",
              "      <td>0.0000</td>\n",
              "      <td>0.000</td>\n",
              "      <td>0.0000</td>\n",
              "      <td>1.000000e+00</td>\n",
              "    </tr>\n",
              "    <tr>\n",
              "      <th>total_collection_amount_ever</th>\n",
              "      <td>10000.0</td>\n",
              "      <td>184.334000</td>\n",
              "      <td>2206.389859</td>\n",
              "      <td>0.00</td>\n",
              "      <td>0.0000</td>\n",
              "      <td>0.000</td>\n",
              "      <td>0.0000</td>\n",
              "      <td>1.993080e+05</td>\n",
              "    </tr>\n",
              "    <tr>\n",
              "      <th>current_installment_accounts</th>\n",
              "      <td>10000.0</td>\n",
              "      <td>2.663600</td>\n",
              "      <td>2.935387</td>\n",
              "      <td>0.00</td>\n",
              "      <td>1.0000</td>\n",
              "      <td>2.000</td>\n",
              "      <td>3.0000</td>\n",
              "      <td>3.500000e+01</td>\n",
              "    </tr>\n",
              "    <tr>\n",
              "      <th>accounts_opened_24m</th>\n",
              "      <td>10000.0</td>\n",
              "      <td>4.376100</td>\n",
              "      <td>3.158583</td>\n",
              "      <td>0.00</td>\n",
              "      <td>2.0000</td>\n",
              "      <td>4.000</td>\n",
              "      <td>6.0000</td>\n",
              "      <td>2.900000e+01</td>\n",
              "    </tr>\n",
              "    <tr>\n",
              "      <th>months_since_last_credit_inquiry</th>\n",
              "      <td>8729.0</td>\n",
              "      <td>7.340703</td>\n",
              "      <td>5.981590</td>\n",
              "      <td>0.00</td>\n",
              "      <td>2.0000</td>\n",
              "      <td>6.000</td>\n",
              "      <td>11.0000</td>\n",
              "      <td>2.400000e+01</td>\n",
              "    </tr>\n",
              "    <tr>\n",
              "      <th>num_satisfactory_accounts</th>\n",
              "      <td>10000.0</td>\n",
              "      <td>11.379600</td>\n",
              "      <td>5.859705</td>\n",
              "      <td>0.00</td>\n",
              "      <td>7.0000</td>\n",
              "      <td>10.000</td>\n",
              "      <td>14.0000</td>\n",
              "      <td>5.100000e+01</td>\n",
              "    </tr>\n",
              "    <tr>\n",
              "      <th>num_accounts_120d_past_due</th>\n",
              "      <td>9682.0</td>\n",
              "      <td>0.000000</td>\n",
              "      <td>0.000000</td>\n",
              "      <td>0.00</td>\n",
              "      <td>0.0000</td>\n",
              "      <td>0.000</td>\n",
              "      <td>0.0000</td>\n",
              "      <td>0.000000e+00</td>\n",
              "    </tr>\n",
              "    <tr>\n",
              "      <th>num_accounts_30d_past_due</th>\n",
              "      <td>10000.0</td>\n",
              "      <td>0.000100</td>\n",
              "      <td>0.010000</td>\n",
              "      <td>0.00</td>\n",
              "      <td>0.0000</td>\n",
              "      <td>0.000</td>\n",
              "      <td>0.0000</td>\n",
              "      <td>1.000000e+00</td>\n",
              "    </tr>\n",
              "    <tr>\n",
              "      <th>num_active_debit_accounts</th>\n",
              "      <td>10000.0</td>\n",
              "      <td>3.595300</td>\n",
              "      <td>2.434689</td>\n",
              "      <td>0.00</td>\n",
              "      <td>2.0000</td>\n",
              "      <td>3.000</td>\n",
              "      <td>5.0000</td>\n",
              "      <td>3.200000e+01</td>\n",
              "    </tr>\n",
              "    <tr>\n",
              "      <th>total_debit_limit</th>\n",
              "      <td>10000.0</td>\n",
              "      <td>27357.410300</td>\n",
              "      <td>26570.164081</td>\n",
              "      <td>0.00</td>\n",
              "      <td>10000.0000</td>\n",
              "      <td>19500.000</td>\n",
              "      <td>36100.0000</td>\n",
              "      <td>3.867000e+05</td>\n",
              "    </tr>\n",
              "    <tr>\n",
              "      <th>num_total_cc_accounts</th>\n",
              "      <td>10000.0</td>\n",
              "      <td>13.030000</td>\n",
              "      <td>7.874713</td>\n",
              "      <td>2.00</td>\n",
              "      <td>7.0000</td>\n",
              "      <td>11.000</td>\n",
              "      <td>17.0000</td>\n",
              "      <td>6.600000e+01</td>\n",
              "    </tr>\n",
              "    <tr>\n",
              "      <th>num_open_cc_accounts</th>\n",
              "      <td>10000.0</td>\n",
              "      <td>8.095000</td>\n",
              "      <td>4.906606</td>\n",
              "      <td>0.00</td>\n",
              "      <td>5.0000</td>\n",
              "      <td>7.000</td>\n",
              "      <td>10.0000</td>\n",
              "      <td>4.600000e+01</td>\n",
              "    </tr>\n",
              "    <tr>\n",
              "      <th>num_cc_carrying_balance</th>\n",
              "      <td>10000.0</td>\n",
              "      <td>5.230500</td>\n",
              "      <td>3.327623</td>\n",
              "      <td>0.00</td>\n",
              "      <td>3.0000</td>\n",
              "      <td>5.000</td>\n",
              "      <td>7.0000</td>\n",
              "      <td>4.300000e+01</td>\n",
              "    </tr>\n",
              "    <tr>\n",
              "      <th>num_mort_accounts</th>\n",
              "      <td>10000.0</td>\n",
              "      <td>1.383100</td>\n",
              "      <td>1.717274</td>\n",
              "      <td>0.00</td>\n",
              "      <td>0.0000</td>\n",
              "      <td>1.000</td>\n",
              "      <td>2.0000</td>\n",
              "      <td>1.400000e+01</td>\n",
              "    </tr>\n",
              "    <tr>\n",
              "      <th>account_never_delinq_percent</th>\n",
              "      <td>10000.0</td>\n",
              "      <td>94.648990</td>\n",
              "      <td>9.155059</td>\n",
              "      <td>14.30</td>\n",
              "      <td>92.6000</td>\n",
              "      <td>100.000</td>\n",
              "      <td>100.0000</td>\n",
              "      <td>1.000000e+02</td>\n",
              "    </tr>\n",
              "    <tr>\n",
              "      <th>tax_liens</th>\n",
              "      <td>10000.0</td>\n",
              "      <td>0.043300</td>\n",
              "      <td>0.593852</td>\n",
              "      <td>0.00</td>\n",
              "      <td>0.0000</td>\n",
              "      <td>0.000</td>\n",
              "      <td>0.0000</td>\n",
              "      <td>5.200000e+01</td>\n",
              "    </tr>\n",
              "    <tr>\n",
              "      <th>public_record_bankrupt</th>\n",
              "      <td>10000.0</td>\n",
              "      <td>0.123800</td>\n",
              "      <td>0.337172</td>\n",
              "      <td>0.00</td>\n",
              "      <td>0.0000</td>\n",
              "      <td>0.000</td>\n",
              "      <td>0.0000</td>\n",
              "      <td>3.000000e+00</td>\n",
              "    </tr>\n",
              "    <tr>\n",
              "      <th>loan_amount</th>\n",
              "      <td>10000.0</td>\n",
              "      <td>16361.922500</td>\n",
              "      <td>10301.956759</td>\n",
              "      <td>1000.00</td>\n",
              "      <td>8000.0000</td>\n",
              "      <td>14500.000</td>\n",
              "      <td>24000.0000</td>\n",
              "      <td>4.000000e+04</td>\n",
              "    </tr>\n",
              "    <tr>\n",
              "      <th>term</th>\n",
              "      <td>10000.0</td>\n",
              "      <td>43.272000</td>\n",
              "      <td>11.029877</td>\n",
              "      <td>36.00</td>\n",
              "      <td>36.0000</td>\n",
              "      <td>36.000</td>\n",
              "      <td>60.0000</td>\n",
              "      <td>6.000000e+01</td>\n",
              "    </tr>\n",
              "    <tr>\n",
              "      <th>interest_rate</th>\n",
              "      <td>10000.0</td>\n",
              "      <td>12.427524</td>\n",
              "      <td>5.001105</td>\n",
              "      <td>5.31</td>\n",
              "      <td>9.4300</td>\n",
              "      <td>11.980</td>\n",
              "      <td>15.0500</td>\n",
              "      <td>3.094000e+01</td>\n",
              "    </tr>\n",
              "    <tr>\n",
              "      <th>installment</th>\n",
              "      <td>10000.0</td>\n",
              "      <td>476.205323</td>\n",
              "      <td>294.851627</td>\n",
              "      <td>30.75</td>\n",
              "      <td>256.0400</td>\n",
              "      <td>398.420</td>\n",
              "      <td>644.6900</td>\n",
              "      <td>1.566590e+03</td>\n",
              "    </tr>\n",
              "    <tr>\n",
              "      <th>balance</th>\n",
              "      <td>10000.0</td>\n",
              "      <td>14458.916610</td>\n",
              "      <td>9964.561865</td>\n",
              "      <td>0.00</td>\n",
              "      <td>6679.0650</td>\n",
              "      <td>12379.495</td>\n",
              "      <td>20690.1825</td>\n",
              "      <td>4.000000e+04</td>\n",
              "    </tr>\n",
              "    <tr>\n",
              "      <th>paid_total</th>\n",
              "      <td>10000.0</td>\n",
              "      <td>2494.234773</td>\n",
              "      <td>3958.230365</td>\n",
              "      <td>0.00</td>\n",
              "      <td>928.7000</td>\n",
              "      <td>1563.300</td>\n",
              "      <td>2616.0050</td>\n",
              "      <td>4.163044e+04</td>\n",
              "    </tr>\n",
              "    <tr>\n",
              "      <th>paid_principal</th>\n",
              "      <td>10000.0</td>\n",
              "      <td>1894.448466</td>\n",
              "      <td>3884.407175</td>\n",
              "      <td>0.00</td>\n",
              "      <td>587.1000</td>\n",
              "      <td>984.990</td>\n",
              "      <td>1694.5550</td>\n",
              "      <td>4.000000e+04</td>\n",
              "    </tr>\n",
              "    <tr>\n",
              "      <th>paid_interest</th>\n",
              "      <td>10000.0</td>\n",
              "      <td>599.666781</td>\n",
              "      <td>517.328062</td>\n",
              "      <td>0.00</td>\n",
              "      <td>221.7575</td>\n",
              "      <td>446.140</td>\n",
              "      <td>825.4200</td>\n",
              "      <td>4.216440e+03</td>\n",
              "    </tr>\n",
              "    <tr>\n",
              "      <th>paid_late_fees</th>\n",
              "      <td>10000.0</td>\n",
              "      <td>0.119516</td>\n",
              "      <td>1.813468</td>\n",
              "      <td>0.00</td>\n",
              "      <td>0.0000</td>\n",
              "      <td>0.000</td>\n",
              "      <td>0.0000</td>\n",
              "      <td>5.298000e+01</td>\n",
              "    </tr>\n",
              "  </tbody>\n",
              "</table>\n",
              "</div>\n",
              "      <button class=\"colab-df-convert\" onclick=\"convertToInteractive('df-7865eb4f-04fa-48d8-902f-78ed542c9cdd')\"\n",
              "              title=\"Convert this dataframe to an interactive table.\"\n",
              "              style=\"display:none;\">\n",
              "        \n",
              "  <svg xmlns=\"http://www.w3.org/2000/svg\" height=\"24px\"viewBox=\"0 0 24 24\"\n",
              "       width=\"24px\">\n",
              "    <path d=\"M0 0h24v24H0V0z\" fill=\"none\"/>\n",
              "    <path d=\"M18.56 5.44l.94 2.06.94-2.06 2.06-.94-2.06-.94-.94-2.06-.94 2.06-2.06.94zm-11 1L8.5 8.5l.94-2.06 2.06-.94-2.06-.94L8.5 2.5l-.94 2.06-2.06.94zm10 10l.94 2.06.94-2.06 2.06-.94-2.06-.94-.94-2.06-.94 2.06-2.06.94z\"/><path d=\"M17.41 7.96l-1.37-1.37c-.4-.4-.92-.59-1.43-.59-.52 0-1.04.2-1.43.59L10.3 9.45l-7.72 7.72c-.78.78-.78 2.05 0 2.83L4 21.41c.39.39.9.59 1.41.59.51 0 1.02-.2 1.41-.59l7.78-7.78 2.81-2.81c.8-.78.8-2.07 0-2.86zM5.41 20L4 18.59l7.72-7.72 1.47 1.35L5.41 20z\"/>\n",
              "  </svg>\n",
              "      </button>\n",
              "      \n",
              "  <style>\n",
              "    .colab-df-container {\n",
              "      display:flex;\n",
              "      flex-wrap:wrap;\n",
              "      gap: 12px;\n",
              "    }\n",
              "\n",
              "    .colab-df-convert {\n",
              "      background-color: #E8F0FE;\n",
              "      border: none;\n",
              "      border-radius: 50%;\n",
              "      cursor: pointer;\n",
              "      display: none;\n",
              "      fill: #1967D2;\n",
              "      height: 32px;\n",
              "      padding: 0 0 0 0;\n",
              "      width: 32px;\n",
              "    }\n",
              "\n",
              "    .colab-df-convert:hover {\n",
              "      background-color: #E2EBFA;\n",
              "      box-shadow: 0px 1px 2px rgba(60, 64, 67, 0.3), 0px 1px 3px 1px rgba(60, 64, 67, 0.15);\n",
              "      fill: #174EA6;\n",
              "    }\n",
              "\n",
              "    [theme=dark] .colab-df-convert {\n",
              "      background-color: #3B4455;\n",
              "      fill: #D2E3FC;\n",
              "    }\n",
              "\n",
              "    [theme=dark] .colab-df-convert:hover {\n",
              "      background-color: #434B5C;\n",
              "      box-shadow: 0px 1px 3px 1px rgba(0, 0, 0, 0.15);\n",
              "      filter: drop-shadow(0px 1px 2px rgba(0, 0, 0, 0.3));\n",
              "      fill: #FFFFFF;\n",
              "    }\n",
              "  </style>\n",
              "\n",
              "      <script>\n",
              "        const buttonEl =\n",
              "          document.querySelector('#df-7865eb4f-04fa-48d8-902f-78ed542c9cdd button.colab-df-convert');\n",
              "        buttonEl.style.display =\n",
              "          google.colab.kernel.accessAllowed ? 'block' : 'none';\n",
              "\n",
              "        async function convertToInteractive(key) {\n",
              "          const element = document.querySelector('#df-7865eb4f-04fa-48d8-902f-78ed542c9cdd');\n",
              "          const dataTable =\n",
              "            await google.colab.kernel.invokeFunction('convertToInteractive',\n",
              "                                                     [key], {});\n",
              "          if (!dataTable) return;\n",
              "\n",
              "          const docLinkHtml = 'Like what you see? Visit the ' +\n",
              "            '<a target=\"_blank\" href=https://colab.research.google.com/notebooks/data_table.ipynb>data table notebook</a>'\n",
              "            + ' to learn more about interactive tables.';\n",
              "          element.innerHTML = '';\n",
              "          dataTable['output_type'] = 'display_data';\n",
              "          await google.colab.output.renderOutput(dataTable, element);\n",
              "          const docLink = document.createElement('div');\n",
              "          docLink.innerHTML = docLinkHtml;\n",
              "          element.appendChild(docLink);\n",
              "        }\n",
              "      </script>\n",
              "    </div>\n",
              "  </div>\n",
              "  "
            ]
          },
          "metadata": {},
          "execution_count": 436
        }
      ]
    },
    {
      "cell_type": "code",
      "source": [
        "#the dataset has null values\n",
        "df.isnull().values.any()"
      ],
      "metadata": {
        "colab": {
          "base_uri": "https://localhost:8080/"
        },
        "id": "keRY-oryCsIs",
        "outputId": "7a16b397-3a54-4fcc-dd57-a8ed5980e233"
      },
      "execution_count": null,
      "outputs": [
        {
          "output_type": "execute_result",
          "data": {
            "text/plain": [
              "True"
            ]
          },
          "metadata": {},
          "execution_count": 437
        }
      ]
    },
    {
      "cell_type": "code",
      "source": [
        "#Checking which columns have null values\n",
        "df.isnull().sum()"
      ],
      "metadata": {
        "colab": {
          "base_uri": "https://localhost:8080/"
        },
        "id": "uhkKWZeDWXlP",
        "outputId": "853c7f3c-fdd1-4c9e-d05a-4ad03a0b28ca"
      },
      "execution_count": null,
      "outputs": [
        {
          "output_type": "execute_result",
          "data": {
            "text/plain": [
              "emp_title                            833\n",
              "emp_length                           817\n",
              "state                                  0\n",
              "homeownership                          0\n",
              "annual_income                          0\n",
              "verified_income                        0\n",
              "debt_to_income                        24\n",
              "annual_income_joint                 8505\n",
              "verification_income_joint           8545\n",
              "debt_to_income_joint                8505\n",
              "delinq_2y                              0\n",
              "months_since_last_delinq            5658\n",
              "earliest_credit_line                   0\n",
              "inquiries_last_12m                     0\n",
              "total_credit_lines                     0\n",
              "open_credit_lines                      0\n",
              "total_credit_limit                     0\n",
              "total_credit_utilized                  0\n",
              "num_collections_last_12m               0\n",
              "num_historical_failed_to_pay           0\n",
              "months_since_90d_late               7715\n",
              "current_accounts_delinq                0\n",
              "total_collection_amount_ever           0\n",
              "current_installment_accounts           0\n",
              "accounts_opened_24m                    0\n",
              "months_since_last_credit_inquiry    1271\n",
              "num_satisfactory_accounts              0\n",
              "num_accounts_120d_past_due           318\n",
              "num_accounts_30d_past_due              0\n",
              "num_active_debit_accounts              0\n",
              "total_debit_limit                      0\n",
              "num_total_cc_accounts                  0\n",
              "num_open_cc_accounts                   0\n",
              "num_cc_carrying_balance                0\n",
              "num_mort_accounts                      0\n",
              "account_never_delinq_percent           0\n",
              "tax_liens                              0\n",
              "public_record_bankrupt                 0\n",
              "loan_purpose                           0\n",
              "application_type                       0\n",
              "loan_amount                            0\n",
              "term                                   0\n",
              "interest_rate                          0\n",
              "installment                            0\n",
              "grade                                  0\n",
              "sub_grade                              0\n",
              "issue_month                            0\n",
              "loan_status                            0\n",
              "initial_listing_status                 0\n",
              "disbursement_method                    0\n",
              "balance                                0\n",
              "paid_total                             0\n",
              "paid_principal                         0\n",
              "paid_interest                          0\n",
              "paid_late_fees                         0\n",
              "dtype: int64"
            ]
          },
          "metadata": {},
          "execution_count": 438
        }
      ]
    },
    {
      "cell_type": "code",
      "source": [
        "#Total percentage of null values in the data (approx. 7%)\n",
        "(df.isnull().sum().sum())/(df.shape[0]*df.shape[1])"
      ],
      "metadata": {
        "colab": {
          "base_uri": "https://localhost:8080/"
        },
        "id": "wtOQeahTWin6",
        "outputId": "aa8a973f-d45d-41b3-b915-ee89ddc34189"
      },
      "execution_count": null,
      "outputs": [
        {
          "output_type": "execute_result",
          "data": {
            "text/plain": [
              "0.0767109090909091"
            ]
          },
          "metadata": {},
          "execution_count": 439
        }
      ]
    },
    {
      "cell_type": "code",
      "source": [
        "#Ploting null values with heat map (understand it better)\n",
        "sns.set(rc={'figure.figsize':(8,5)})\n",
        "sns.set_style('whitegrid')\n",
        "sns.heatmap(df.isnull())\n",
        "plt.title('Null values visual plot',fontdict={'fontsize': 20})\n",
        "plt.legend(df.isnull())\n",
        "plt.show()"
      ],
      "metadata": {
        "colab": {
          "base_uri": "https://localhost:8080/",
          "height": 496
        },
        "id": "llTF1g3oWkkZ",
        "outputId": "2d0fdd43-a14b-4200-8857-4f27c6b36cb4"
      },
      "execution_count": null,
      "outputs": [
        {
          "output_type": "display_data",
          "data": {
            "text/plain": [
              "<Figure size 576x360 with 2 Axes>"
            ],
            "image/png": "[encoded data removed]"
          },
          "metadata": {}
        }
      ]
    },
    {
      "cell_type": "code",
      "source": [
        "#Creating a dataframe to display percentage of null values\n",
        "#each row represents the number of columns with less than the specific percentage\n",
        "\n",
        "a = pd.DataFrame()\n",
        "a['Percentage of null values']=['10% or less','20% or less','30% or less','40% or less','50% or less','60% or less','70% or less']\n",
        "\n",
        "ten_percent = len(df.columns[((df.isnull().sum())/len(df)) < 0.1])\n",
        "twenty_percent = len(df.columns[((df.isnull().sum())/len(df)) < 0.2])\n",
        "thirty_percent = len(df.columns[((df.isnull().sum())/len(df)) < 0.3])\n",
        "fourty_percent = len(df.columns[((df.isnull().sum())/len(df)) < 0.4])\n",
        "fifty_percent = len(df.columns[((df.isnull().sum())/len(df)) < 0.5])\n",
        "sixty_percent = len(df.columns[((df.isnull().sum())/len(df)) < 0.6])\n",
        "seventy_percent = len(df.columns[((df.isnull().sum())/len(df)) < 0.7])\n",
        "\n",
        "\n",
        "a['No.of columns'] = [ten_percent,twenty_percent,thirty_percent,fourty_percent,fifty_percent,sixty_percent,seventy_percent]\n",
        "a"
      ],
      "metadata": {
        "colab": {
          "base_uri": "https://localhost:8080/",
          "height": 269
        },
        "id": "uPVZGrc5Xfoj",
        "outputId": "a111f5ef-d3b9-4e96-98aa-6d21aab0d277"
      },
      "execution_count": null,
      "outputs": [
        {
          "output_type": "execute_result",
          "data": {
            "text/plain": [
              "  Percentage of null values  No.of columns\n",
              "0               10% or less             49\n",
              "1               20% or less             50\n",
              "2               30% or less             50\n",
              "3               40% or less             50\n",
              "4               50% or less             50\n",
              "5               60% or less             51\n",
              "6               70% or less             51"
            ],
            "text/html": [
              "\n",
              "  <div id=\"df-0d76248d-298c-4a70-b254-77383482292c\">\n",
              "    <div class=\"colab-df-container\">\n",
              "      <div>\n",
              "<style scoped>\n",
              "    .dataframe tbody tr th:only-of-type {\n",
              "        vertical-align: middle;\n",
              "    }\n",
              "\n",
              "    .dataframe tbody tr th {\n",
              "        vertical-align: top;\n",
              "    }\n",
              "\n",
              "    .dataframe thead th {\n",
              "        text-align: right;\n",
              "    }\n",
              "</style>\n",
              "<table border=\"1\" class=\"dataframe\">\n",
              "  <thead>\n",
              "    <tr style=\"text-align: right;\">\n",
              "      <th></th>\n",
              "      <th>Percentage of null values</th>\n",
              "      <th>No.of columns</th>\n",
              "    </tr>\n",
              "  </thead>\n",
              "  <tbody>\n",
              "    <tr>\n",
              "      <th>0</th>\n",
              "      <td>10% or less</td>\n",
              "      <td>49</td>\n",
              "    </tr>\n",
              "    <tr>\n",
              "      <th>1</th>\n",
              "      <td>20% or less</td>\n",
              "      <td>50</td>\n",
              "    </tr>\n",
              "    <tr>\n",
              "      <th>2</th>\n",
              "      <td>30% or less</td>\n",
              "      <td>50</td>\n",
              "    </tr>\n",
              "    <tr>\n",
              "      <th>3</th>\n",
              "      <td>40% or less</td>\n",
              "      <td>50</td>\n",
              "    </tr>\n",
              "    <tr>\n",
              "      <th>4</th>\n",
              "      <td>50% or less</td>\n",
              "      <td>50</td>\n",
              "    </tr>\n",
              "    <tr>\n",
              "      <th>5</th>\n",
              "      <td>60% or less</td>\n",
              "      <td>51</td>\n",
              "    </tr>\n",
              "    <tr>\n",
              "      <th>6</th>\n",
              "      <td>70% or less</td>\n",
              "      <td>51</td>\n",
              "    </tr>\n",
              "  </tbody>\n",
              "</table>\n",
              "</div>\n",
              "      <button class=\"colab-df-convert\" onclick=\"convertToInteractive('df-0d76248d-298c-4a70-b254-77383482292c')\"\n",
              "              title=\"Convert this dataframe to an interactive table.\"\n",
              "              style=\"display:none;\">\n",
              "        \n",
              "  <svg xmlns=\"http://www.w3.org/2000/svg\" height=\"24px\"viewBox=\"0 0 24 24\"\n",
              "       width=\"24px\">\n",
              "    <path d=\"M0 0h24v24H0V0z\" fill=\"none\"/>\n",
              "    <path d=\"M18.56 5.44l.94 2.06.94-2.06 2.06-.94-2.06-.94-.94-2.06-.94 2.06-2.06.94zm-11 1L8.5 8.5l.94-2.06 2.06-.94-2.06-.94L8.5 2.5l-.94 2.06-2.06.94zm10 10l.94 2.06.94-2.06 2.06-.94-2.06-.94-.94-2.06-.94 2.06-2.06.94z\"/><path d=\"M17.41 7.96l-1.37-1.37c-.4-.4-.92-.59-1.43-.59-.52 0-1.04.2-1.43.59L10.3 9.45l-7.72 7.72c-.78.78-.78 2.05 0 2.83L4 21.41c.39.39.9.59 1.41.59.51 0 1.02-.2 1.41-.59l7.78-7.78 2.81-2.81c.8-.78.8-2.07 0-2.86zM5.41 20L4 18.59l7.72-7.72 1.47 1.35L5.41 20z\"/>\n",
              "  </svg>\n",
              "      </button>\n",
              "      \n",
              "  <style>\n",
              "    .colab-df-container {\n",
              "      display:flex;\n",
              "      flex-wrap:wrap;\n",
              "      gap: 12px;\n",
              "    }\n",
              "\n",
              "    .colab-df-convert {\n",
              "      background-color: #E8F0FE;\n",
              "      border: none;\n",
              "      border-radius: 50%;\n",
              "      cursor: pointer;\n",
              "      display: none;\n",
              "      fill: #1967D2;\n",
              "      height: 32px;\n",
              "      padding: 0 0 0 0;\n",
              "      width: 32px;\n",
              "    }\n",
              "\n",
              "    .colab-df-convert:hover {\n",
              "      background-color: #E2EBFA;\n",
              "      box-shadow: 0px 1px 2px rgba(60, 64, 67, 0.3), 0px 1px 3px 1px rgba(60, 64, 67, 0.15);\n",
              "      fill: #174EA6;\n",
              "    }\n",
              "\n",
              "    [theme=dark] .colab-df-convert {\n",
              "      background-color: #3B4455;\n",
              "      fill: #D2E3FC;\n",
              "    }\n",
              "\n",
              "    [theme=dark] .colab-df-convert:hover {\n",
              "      background-color: #434B5C;\n",
              "      box-shadow: 0px 1px 3px 1px rgba(0, 0, 0, 0.15);\n",
              "      filter: drop-shadow(0px 1px 2px rgba(0, 0, 0, 0.3));\n",
              "      fill: #FFFFFF;\n",
              "    }\n",
              "  </style>\n",
              "\n",
              "      <script>\n",
              "        const buttonEl =\n",
              "          document.querySelector('#df-0d76248d-298c-4a70-b254-77383482292c button.colab-df-convert');\n",
              "        buttonEl.style.display =\n",
              "          google.colab.kernel.accessAllowed ? 'block' : 'none';\n",
              "\n",
              "        async function convertToInteractive(key) {\n",
              "          const element = document.querySelector('#df-0d76248d-298c-4a70-b254-77383482292c');\n",
              "          const dataTable =\n",
              "            await google.colab.kernel.invokeFunction('convertToInteractive',\n",
              "                                                     [key], {});\n",
              "          if (!dataTable) return;\n",
              "\n",
              "          const docLinkHtml = 'Like what you see? Visit the ' +\n",
              "            '<a target=\"_blank\" href=https://colab.research.google.com/notebooks/data_table.ipynb>data table notebook</a>'\n",
              "            + ' to learn more about interactive tables.';\n",
              "          element.innerHTML = '';\n",
              "          dataTable['output_type'] = 'display_data';\n",
              "          await google.colab.output.renderOutput(dataTable, element);\n",
              "          const docLink = document.createElement('div');\n",
              "          docLink.innerHTML = docLinkHtml;\n",
              "          element.appendChild(docLink);\n",
              "        }\n",
              "      </script>\n",
              "    </div>\n",
              "  </div>\n",
              "  "
            ]
          },
          "metadata": {},
          "execution_count": 441
        }
      ]
    },
    {
      "cell_type": "code",
      "source": [
        "#the column with the null values are creating noise in our dataset so in order not to remove them all we will keep\n",
        "#these ones that are having less than 40% null values ( row3->50 columns) \n",
        "df = df[df.columns[((df.isnull().sum())/len(df)) < 0.4]]\n",
        "df.shape"
      ],
      "metadata": {
        "colab": {
          "base_uri": "https://localhost:8080/"
        },
        "id": "uzqcOl03Y9TM",
        "outputId": "40316c06-f00f-4acf-d4a1-29f89cd6fb90"
      },
      "execution_count": null,
      "outputs": [
        {
          "output_type": "execute_result",
          "data": {
            "text/plain": [
              "(10000, 50)"
            ]
          },
          "metadata": {},
          "execution_count": 442
        }
      ]
    },
    {
      "cell_type": "code",
      "source": [
        "#checking again for null values\n",
        "df.isnull().sum()"
      ],
      "metadata": {
        "colab": {
          "base_uri": "https://localhost:8080/"
        },
        "id": "_Hc4XDKdjSed",
        "outputId": "945550c9-c939-428d-d2c5-5a221395f2f8"
      },
      "execution_count": null,
      "outputs": [
        {
          "output_type": "execute_result",
          "data": {
            "text/plain": [
              "emp_title                            833\n",
              "emp_length                           817\n",
              "state                                  0\n",
              "homeownership                          0\n",
              "annual_income                          0\n",
              "verified_income                        0\n",
              "debt_to_income                        24\n",
              "delinq_2y                              0\n",
              "earliest_credit_line                   0\n",
              "inquiries_last_12m                     0\n",
              "total_credit_lines                     0\n",
              "open_credit_lines                      0\n",
              "total_credit_limit                     0\n",
              "total_credit_utilized                  0\n",
              "num_collections_last_12m               0\n",
              "num_historical_failed_to_pay           0\n",
              "current_accounts_delinq                0\n",
              "total_collection_amount_ever           0\n",
              "current_installment_accounts           0\n",
              "accounts_opened_24m                    0\n",
              "months_since_last_credit_inquiry    1271\n",
              "num_satisfactory_accounts              0\n",
              "num_accounts_120d_past_due           318\n",
              "num_accounts_30d_past_due              0\n",
              "num_active_debit_accounts              0\n",
              "total_debit_limit                      0\n",
              "num_total_cc_accounts                  0\n",
              "num_open_cc_accounts                   0\n",
              "num_cc_carrying_balance                0\n",
              "num_mort_accounts                      0\n",
              "account_never_delinq_percent           0\n",
              "tax_liens                              0\n",
              "public_record_bankrupt                 0\n",
              "loan_purpose                           0\n",
              "application_type                       0\n",
              "loan_amount                            0\n",
              "term                                   0\n",
              "interest_rate                          0\n",
              "installment                            0\n",
              "grade                                  0\n",
              "sub_grade                              0\n",
              "issue_month                            0\n",
              "loan_status                            0\n",
              "initial_listing_status                 0\n",
              "disbursement_method                    0\n",
              "balance                                0\n",
              "paid_total                             0\n",
              "paid_principal                         0\n",
              "paid_interest                          0\n",
              "paid_late_fees                         0\n",
              "dtype: int64"
            ]
          },
          "metadata": {},
          "execution_count": 443
        }
      ]
    },
    {
      "cell_type": "code",
      "source": [
        "df['emp_title'].value_counts()"
      ],
      "metadata": {
        "colab": {
          "base_uri": "https://localhost:8080/"
        },
        "id": "xIhUtFBzIYj6",
        "outputId": "b40397bb-a1a9-4f6a-eb77-79c33e40a1bb"
      },
      "execution_count": null,
      "outputs": [
        {
          "output_type": "execute_result",
          "data": {
            "text/plain": [
              "manager                     218\n",
              "owner                       204\n",
              "teacher                     201\n",
              "driver                      123\n",
              "sales                        97\n",
              "                           ... \n",
              "corporate tax director        1\n",
              "captain-fire department       1\n",
              "intervention specialist       1\n",
              "coffee roaster                1\n",
              "toolmaker                     1\n",
              "Name: emp_title, Length: 4741, dtype: int64"
            ]
          },
          "metadata": {},
          "execution_count": 444
        }
      ]
    },
    {
      "cell_type": "code",
      "source": [
        "unemployed = ['unemployed', 'none', 'Unemployed', 'other', 'Other']\n",
        "for item in unemployed:\n",
        "    if item in df['emp_title']:\n",
        "        print(\"Found It at \", item)"
      ],
      "metadata": {
        "id": "mLnumvKyIfXA"
      },
      "execution_count": null,
      "outputs": []
    },
    {
      "cell_type": "code",
      "source": [
        "#seems that nan are all the unemploed --> replace nan values with unemployed\n",
        "df['emp_title'] = df['emp_title'].fillna(\"Unemployed\")"
      ],
      "metadata": {
        "id": "LSIGh6upIvKX"
      },
      "execution_count": null,
      "outputs": []
    },
    {
      "cell_type": "code",
      "source": [
        "# replace null values  with median\n",
        "df['months_since_last_credit_inquiry'].fillna(df['months_since_last_credit_inquiry'].median(),inplace=True)\n",
        "df['num_accounts_120d_past_due'].fillna(df['num_accounts_120d_past_due'].median(),inplace=True)\n",
        "df['debt_to_income'].fillna(df['debt_to_income'].median(),inplace=True)\n",
        "df['emp_length'].fillna(df['emp_length'].median(),inplace=True)"
      ],
      "metadata": {
        "id": "qt-JlES_jef9"
      },
      "execution_count": null,
      "outputs": []
    },
    {
      "cell_type": "code",
      "source": [
        "#checking again for null values. Seems that we are in a good place now\n",
        "df.isnull().sum()"
      ],
      "metadata": {
        "colab": {
          "base_uri": "https://localhost:8080/"
        },
        "id": "kHROrnnsjxNQ",
        "outputId": "4be1758a-879d-419d-e559-4e4c4e53393d"
      },
      "execution_count": null,
      "outputs": [
        {
          "output_type": "execute_result",
          "data": {
            "text/plain": [
              "emp_title                           0\n",
              "emp_length                          0\n",
              "state                               0\n",
              "homeownership                       0\n",
              "annual_income                       0\n",
              "verified_income                     0\n",
              "debt_to_income                      0\n",
              "delinq_2y                           0\n",
              "earliest_credit_line                0\n",
              "inquiries_last_12m                  0\n",
              "total_credit_lines                  0\n",
              "open_credit_lines                   0\n",
              "total_credit_limit                  0\n",
              "total_credit_utilized               0\n",
              "num_collections_last_12m            0\n",
              "num_historical_failed_to_pay        0\n",
              "current_accounts_delinq             0\n",
              "total_collection_amount_ever        0\n",
              "current_installment_accounts        0\n",
              "accounts_opened_24m                 0\n",
              "months_since_last_credit_inquiry    0\n",
              "num_satisfactory_accounts           0\n",
              "num_accounts_120d_past_due          0\n",
              "num_accounts_30d_past_due           0\n",
              "num_active_debit_accounts           0\n",
              "total_debit_limit                   0\n",
              "num_total_cc_accounts               0\n",
              "num_open_cc_accounts                0\n",
              "num_cc_carrying_balance             0\n",
              "num_mort_accounts                   0\n",
              "account_never_delinq_percent        0\n",
              "tax_liens                           0\n",
              "public_record_bankrupt              0\n",
              "loan_purpose                        0\n",
              "application_type                    0\n",
              "loan_amount                         0\n",
              "term                                0\n",
              "interest_rate                       0\n",
              "installment                         0\n",
              "grade                               0\n",
              "sub_grade                           0\n",
              "issue_month                         0\n",
              "loan_status                         0\n",
              "initial_listing_status              0\n",
              "disbursement_method                 0\n",
              "balance                             0\n",
              "paid_total                          0\n",
              "paid_principal                      0\n",
              "paid_interest                       0\n",
              "paid_late_fees                      0\n",
              "dtype: int64"
            ]
          },
          "metadata": {},
          "execution_count": 448
        }
      ]
    },
    {
      "cell_type": "code",
      "source": [
        "#exploring more the data + datatypes\n",
        "df.info()"
      ],
      "metadata": {
        "colab": {
          "base_uri": "https://localhost:8080/"
        },
        "id": "Nvsyw1zzZG0d",
        "outputId": "2613dfe7-1acf-4a58-d0ef-e74e6e2b45af"
      },
      "execution_count": null,
      "outputs": [
        {
          "output_type": "stream",
          "name": "stdout",
          "text": [
            "<class 'pandas.core.frame.DataFrame'>\n",
            "RangeIndex: 10000 entries, 0 to 9999\n",
            "Data columns (total 50 columns):\n",
            " #   Column                            Non-Null Count  Dtype  \n",
            "---  ------                            --------------  -----  \n",
            " 0   emp_title                         10000 non-null  object \n",
            " 1   emp_length                        10000 non-null  float64\n",
            " 2   state                             10000 non-null  object \n",
            " 3   homeownership                     10000 non-null  object \n",
            " 4   annual_income                     10000 non-null  float64\n",
            " 5   verified_income                   10000 non-null  object \n",
            " 6   debt_to_income                    10000 non-null  float64\n",
            " 7   delinq_2y                         10000 non-null  int64  \n",
            " 8   earliest_credit_line              10000 non-null  int64  \n",
            " 9   inquiries_last_12m                10000 non-null  int64  \n",
            " 10  total_credit_lines                10000 non-null  int64  \n",
            " 11  open_credit_lines                 10000 non-null  int64  \n",
            " 12  total_credit_limit                10000 non-null  int64  \n",
            " 13  total_credit_utilized             10000 non-null  int64  \n",
            " 14  num_collections_last_12m          10000 non-null  int64  \n",
            " 15  num_historical_failed_to_pay      10000 non-null  int64  \n",
            " 16  current_accounts_delinq           10000 non-null  int64  \n",
            " 17  total_collection_amount_ever      10000 non-null  int64  \n",
            " 18  current_installment_accounts      10000 non-null  int64  \n",
            " 19  accounts_opened_24m               10000 non-null  int64  \n",
            " 20  months_since_last_credit_inquiry  10000 non-null  float64\n",
            " 21  num_satisfactory_accounts         10000 non-null  int64  \n",
            " 22  num_accounts_120d_past_due        10000 non-null  float64\n",
            " 23  num_accounts_30d_past_due         10000 non-null  int64  \n",
            " 24  num_active_debit_accounts         10000 non-null  int64  \n",
            " 25  total_debit_limit                 10000 non-null  int64  \n",
            " 26  num_total_cc_accounts             10000 non-null  int64  \n",
            " 27  num_open_cc_accounts              10000 non-null  int64  \n",
            " 28  num_cc_carrying_balance           10000 non-null  int64  \n",
            " 29  num_mort_accounts                 10000 non-null  int64  \n",
            " 30  account_never_delinq_percent      10000 non-null  float64\n",
            " 31  tax_liens                         10000 non-null  int64  \n",
            " 32  public_record_bankrupt            10000 non-null  int64  \n",
            " 33  loan_purpose                      10000 non-null  object \n",
            " 34  application_type                  10000 non-null  object \n",
            " 35  loan_amount                       10000 non-null  int64  \n",
            " 36  term                              10000 non-null  int64  \n",
            " 37  interest_rate                     10000 non-null  float64\n",
            " 38  installment                       10000 non-null  float64\n",
            " 39  grade                             10000 non-null  object \n",
            " 40  sub_grade                         10000 non-null  object \n",
            " 41  issue_month                       10000 non-null  object \n",
            " 42  loan_status                       10000 non-null  object \n",
            " 43  initial_listing_status            10000 non-null  object \n",
            " 44  disbursement_method               10000 non-null  object \n",
            " 45  balance                           10000 non-null  float64\n",
            " 46  paid_total                        10000 non-null  float64\n",
            " 47  paid_principal                    10000 non-null  float64\n",
            " 48  paid_interest                     10000 non-null  float64\n",
            " 49  paid_late_fees                    10000 non-null  float64\n",
            "dtypes: float64(13), int64(25), object(12)\n",
            "memory usage: 3.8+ MB\n"
          ]
        }
      ]
    },
    {
      "cell_type": "code",
      "source": [
        "#do this procedure for some columns in order to understand them more\n",
        "df['grade'].value_counts() "
      ],
      "metadata": {
        "colab": {
          "base_uri": "https://localhost:8080/"
        },
        "id": "wHf6Y5JdehXr",
        "outputId": "598c330d-6a2d-4e7b-b603-ac51acd11c74"
      },
      "execution_count": null,
      "outputs": [
        {
          "output_type": "execute_result",
          "data": {
            "text/plain": [
              "B    3037\n",
              "C    2653\n",
              "A    2459\n",
              "D    1446\n",
              "E     335\n",
              "F      58\n",
              "G      12\n",
              "Name: grade, dtype: int64"
            ]
          },
          "metadata": {},
          "execution_count": 450
        }
      ]
    },
    {
      "cell_type": "code",
      "source": [
        "#10000 rows and 50 columns\n",
        "df.shape"
      ],
      "metadata": {
        "colab": {
          "base_uri": "https://localhost:8080/"
        },
        "id": "Inb2XPQzqm1k",
        "outputId": "169d667a-43fc-4abe-d175-14c441323522"
      },
      "execution_count": null,
      "outputs": [
        {
          "output_type": "execute_result",
          "data": {
            "text/plain": [
              "(10000, 50)"
            ]
          },
          "metadata": {},
          "execution_count": 451
        }
      ]
    },
    {
      "cell_type": "markdown",
      "source": [
        "Generally as reffered in the documentation too the dataset represents thousands of loans made through the Lending Club platform, which is a platform that allows individuals to lend to other individuals. I ended up with 1000 rows and 50 columns. The main data prepocessing actions that I made was: \n",
        "*   Handling missing data\n",
        "*   Handling categorical data (next chapter)\n"
      ],
      "metadata": {
        "id": "NJQZcvF-qGSl"
      }
    },
    {
      "cell_type": "markdown",
      "source": [
        "# **Visualizations**"
      ],
      "metadata": {
        "id": "n3vooGv5r1Ww"
      }
    },
    {
      "cell_type": "markdown",
      "source": [
        "**Fist Vizualization**: Number of loans per loan status"
      ],
      "metadata": {
        "id": "Ubmu_bc7uaYm"
      }
    },
    {
      "cell_type": "code",
      "source": [
        "plt.figure(figsize=(15, 10))\n",
        "loan_status = df.loan_status.unique().tolist()\n",
        "plt.subplot(2, 2, 1)\n",
        "sns.countplot(y='loan_status', data=df,palette=[\"#6c6361\",\"#d9d8a8\",'#c5be54',\"#635e21\",\"#847474\",\"#bcbdbf\"])\n",
        "plt.grid(False)\n",
        "plt.ylabel(\"Loan Status\")\n",
        "plt.xlabel(\"Count\")\n",
        "plt.show()"
      ],
      "metadata": {
        "colab": {
          "base_uri": "https://localhost:8080/",
          "height": 314
        },
        "id": "cPaVNa0V26HL",
        "outputId": "8543885d-d03e-483a-a53b-86daaf0e0002"
      },
      "execution_count": null,
      "outputs": [
        {
          "output_type": "display_data",
          "data": {
            "text/plain": [
              "<Figure size 1080x720 with 1 Axes>"
            ],
            "image/png": "[encoded data removed]"
          },
          "metadata": {}
        }
      ]
    },
    {
      "cell_type": "markdown",
      "source": [
        "**Second Vizualization:** In the same pattern as the above number of loans per category and per loan status"
      ],
      "metadata": {
        "id": "dfymm2jC7By2"
      }
    },
    {
      "cell_type": "code",
      "source": [
        "plt.figure(figsize=(15, 10))\n",
        "grade = sorted(df.grade.unique().tolist())\n",
        "plt.subplot(2, 2, 1)\n",
        "sns.countplot(x='grade', data=df, hue='loan_status', order=grade,palette=[\"#6c6361\",\"#d9d8a8\",'#c5be54',\"#635e21\",\"#847474\",\"#bcbdbf\"])\n",
        "plt.ylabel(\"Count\")\n",
        "plt.xlabel(\"Grade\")\n",
        "plt.grid(False)\n",
        "plt.show()"
      ],
      "metadata": {
        "colab": {
          "base_uri": "https://localhost:8080/",
          "height": 315
        },
        "id": "pe9NDrS-sDff",
        "outputId": "ffd3d4c2-e57b-4156-c48f-e01ac436fc3a"
      },
      "execution_count": null,
      "outputs": [
        {
          "output_type": "display_data",
          "data": {
            "text/plain": [
              "<Figure size 1080x720 with 1 Axes>"
            ],
            "image/png": "[encoded data removed]"
          },
          "metadata": {}
        }
      ]
    },
    {
      "cell_type": "markdown",
      "source": [
        "**Third Vizualization:** \n",
        "*   How data is distributed across its different values\n",
        "*   Finding skew in data (if it is normally distributed we can use linear regression for the next question)\n"
      ],
      "metadata": {
        "id": "GjnjvYMIJfq9"
      }
    },
    {
      "cell_type": "code",
      "source": [
        "from scipy.stats import norm\n",
        "\n",
        "sns.distplot(df['interest_rate'], fit=norm)\n",
        "plt.title(\"Distribution and Skew of Interest Rate\")\n",
        "plt.xlabel(\"Interest Rate in %\")\n",
        "plt.ylabel(\"Occurance in %\")\n",
        "plt.grid(False)\n",
        "plt.show()\n"
      ],
      "metadata": {
        "colab": {
          "base_uri": "https://localhost:8080/",
          "height": 411
        },
        "id": "_EguvnfKJI_h",
        "outputId": "b3dc5eed-fdd5-43eb-c3bb-91c370bc4133"
      },
      "execution_count": null,
      "outputs": [
        {
          "output_type": "stream",
          "name": "stderr",
          "text": [
            "/usr/local/lib/python3.7/dist-packages/seaborn/distributions.py:2619: FutureWarning: `distplot` is a deprecated function and will be removed in a future version. Please adapt your code to use either `displot` (a figure-level function with similar flexibility) or `histplot` (an axes-level function for histograms).\n",
            "  warnings.warn(msg, FutureWarning)\n"
          ]
        },
        {
          "output_type": "display_data",
          "data": {
            "text/plain": [
              "<Figure size 576x360 with 1 Axes>"
            ],
            "image/png": "[encoded data removed]"
          },
          "metadata": {}
        }
      ]
    },
    {
      "cell_type": "markdown",
      "source": [
        "**Fourth visualization:** Employment length vs interest rate (good for checking trends)"
      ],
      "metadata": {
        "id": "B_voFteH7Jvz"
      }
    },
    {
      "cell_type": "code",
      "source": [
        "sns.lineplot(x=df['emp_length'], y=df['interest_rate'])\n",
        "plt.title(\"Employment Length vs Interest Rate\")\n",
        "plt.xlabel(\"Employment Length in years\")\n",
        "plt.ylabel(\"Interest Rate in %\")\n",
        "plt.grid(False)\n",
        "plt.show()"
      ],
      "metadata": {
        "colab": {
          "base_uri": "https://localhost:8080/",
          "height": 355
        },
        "id": "x_qVGPvWKEJA",
        "outputId": "46ee93d9-0960-40fa-e65e-dd7246dd0841"
      },
      "execution_count": null,
      "outputs": [
        {
          "output_type": "display_data",
          "data": {
            "text/plain": [
              "<Figure size 576x360 with 1 Axes>"
            ],
            "image/png": "[encoded data removed]"
          },
          "metadata": {}
        }
      ]
    },
    {
      "cell_type": "markdown",
      "source": [
        "**Fifth visualization:** Like hybrid box plot. Checking the peaks of the data for Home Ownership"
      ],
      "metadata": {
        "id": "YdfPgXECKgz2"
      }
    },
    {
      "cell_type": "code",
      "source": [
        "sns.violinplot(x=\"homeownership\", y=\"interest_rate\", data=df, hue=\"term\",palette=[\"#6c6361\",\"#d9d8a8\"])\n",
        "plt.title(\"Violin Plot\")\n",
        "plt.xlabel(\"Home Ownership\")\n",
        "plt.ylabel(\"Interest Rate in %\")\n",
        "plt.grid(False)\n",
        "plt.show()"
      ],
      "metadata": {
        "colab": {
          "base_uri": "https://localhost:8080/",
          "height": 355
        },
        "id": "ifMW65C8sDDb",
        "outputId": "b1450adc-838e-4086-e556-121935a2e206"
      },
      "execution_count": null,
      "outputs": [
        {
          "output_type": "display_data",
          "data": {
            "text/plain": [
              "<Figure size 576x360 with 1 Axes>"
            ],
            "image/png": "[encoded data removed]"
          },
          "metadata": {}
        }
      ]
    },
    {
      "cell_type": "code",
      "source": [
        "#categorical to numerical\n",
        "#one hot encoding\n",
        "from sklearn.preprocessing import LabelEncoder\n",
        "le = LabelEncoder()\n",
        "\n",
        "for i in df.columns:\n",
        "    if df[i].dtypes == 'object':\n",
        "        \n",
        "        df[i] = le.fit_transform(df[i])"
      ],
      "metadata": {
        "id": "4u_vOl4b2byf"
      },
      "execution_count": null,
      "outputs": []
    },
    {
      "cell_type": "code",
      "source": [
        "df.corr().abs()['interest_rate'].sort_values(ascending = False)\n"
      ],
      "metadata": {
        "colab": {
          "base_uri": "https://localhost:8080/"
        },
        "id": "0SbSDCqUlkKQ",
        "outputId": "4cec556a-49e3-475c-fe95-439ae66b1c79"
      },
      "execution_count": null,
      "outputs": [
        {
          "output_type": "execute_result",
          "data": {
            "text/plain": [
              "interest_rate                       1.000000\n",
              "sub_grade                           0.992921\n",
              "grade                               0.969402\n",
              "paid_interest                       0.514508\n",
              "term                                0.358664\n",
              "total_debit_limit                   0.254225\n",
              "verified_income                     0.242954\n",
              "disbursement_method                 0.168792\n",
              "debt_to_income                      0.141273\n",
              "num_mort_accounts                   0.138351\n",
              "inquiries_last_12m                  0.131193\n",
              "total_credit_limit                  0.130497\n",
              "account_never_delinq_percent        0.124702\n",
              "accounts_opened_24m                 0.120657\n",
              "loan_status                         0.109067\n",
              "earliest_credit_line                0.103635\n",
              "initial_listing_status              0.100040\n",
              "annual_income                       0.099584\n",
              "installment                         0.098811\n",
              "delinq_2y                           0.090456\n",
              "months_since_last_credit_inquiry    0.086670\n",
              "num_cc_carrying_balance             0.081741\n",
              "homeownership                       0.079634\n",
              "num_total_cc_accounts               0.071238\n",
              "balance                             0.067570\n",
              "paid_total                          0.065339\n",
              "loan_amount                         0.064527\n",
              "application_type                    0.061201\n",
              "public_record_bankrupt              0.047477\n",
              "current_installment_accounts        0.047131\n",
              "total_credit_lines                  0.044435\n",
              "num_historical_failed_to_pay        0.037563\n",
              "total_credit_utilized               0.031527\n",
              "num_collections_last_12m            0.029901\n",
              "num_open_cc_accounts                0.028891\n",
              "emp_length                          0.028321\n",
              "num_active_debit_accounts           0.026800\n",
              "paid_late_fees                      0.023110\n",
              "loan_purpose                        0.019974\n",
              "tax_liens                           0.016547\n",
              "total_collection_amount_ever        0.013532\n",
              "num_satisfactory_accounts           0.013330\n",
              "open_credit_lines                   0.012773\n",
              "emp_title                           0.011470\n",
              "issue_month                         0.008077\n",
              "num_accounts_30d_past_due           0.007184\n",
              "current_accounts_delinq             0.007184\n",
              "state                               0.002507\n",
              "paid_principal                      0.001953\n",
              "num_accounts_120d_past_due               NaN\n",
              "Name: interest_rate, dtype: float64"
            ]
          },
          "metadata": {},
          "execution_count": 458
        }
      ]
    },
    {
      "cell_type": "code",
      "source": [
        "#I keep only the attr that are very highly collarated with interest_rate. Generally, upon 30% the attr are considered as collerated.\n",
        "#After some tries it makes sense to keep only sub_grade and grade --> because we have good results in the prediction\n",
        "\n",
        "\n",
        "df.drop(df.columns.difference(['interest_rate','sub_grade','grade']), 1, inplace=True)\n",
        "\n",
        "#df.drop(df.columns.difference(['interest_rate','sub_grade','grade','paid_interest','term','total_debit_limit']), 1, inplace=True)\n"
      ],
      "metadata": {
        "id": "njRqsrGtmzm6",
        "colab": {
          "base_uri": "https://localhost:8080/"
        },
        "outputId": "67da7fa7-18b5-4bf2-8ef9-ca0e399b9f3f"
      },
      "execution_count": null,
      "outputs": [
        {
          "output_type": "stream",
          "name": "stderr",
          "text": [
            "/usr/local/lib/python3.7/dist-packages/ipykernel_launcher.py:5: FutureWarning: In a future version of pandas all arguments of DataFrame.drop except for the argument 'labels' will be keyword-only\n",
            "  \"\"\"\n"
          ]
        }
      ]
    },
    {
      "cell_type": "markdown",
      "source": [
        "**Seventh vizualiozation:** Correlation betwwen variables. This viz will help further for picking up the most important columns for the next question."
      ],
      "metadata": {
        "id": "2XFauyLi8AG5"
      }
    },
    {
      "cell_type": "code",
      "source": [
        "#corr between variables\n",
        "plt.figure(figsize = (5,5))\n",
        "sns.heatmap(data = df.corr(), annot = True)\n",
        "plt.show()"
      ],
      "metadata": {
        "colab": {
          "base_uri": "https://localhost:8080/",
          "height": 327
        },
        "id": "SwMasWBujTyn",
        "outputId": "189c1428-892e-4293-8fa1-7f232f516f72"
      },
      "execution_count": null,
      "outputs": [
        {
          "output_type": "display_data",
          "data": {
            "text/plain": [
              "<Figure size 360x360 with 2 Axes>"
            ],
            "image/png": "[encoded data removed]"
          },
          "metadata": {}
        }
      ]
    },
    {
      "cell_type": "markdown",
      "source": [
        "For this section the vizuals that I decided to create in order to go more in depth in the data were:\n",
        "\n",
        "\n",
        "*   Bar Chart : inputs about number of loans per status and per category\n",
        "*   Distribution Plot: inputs about skew and how data are distributed among different values\n",
        "*   Line char: inputs about employment lenght vs interest rate\n",
        "*   Violin Plot: inputs for homeownership per interest of rate\n",
        "*   Correlation Heatmap: check correlation between interest_rate and grade and sub_grade\n",
        "\n"
      ],
      "metadata": {
        "id": "NFCE5cDQ8mbE"
      }
    },
    {
      "cell_type": "markdown",
      "source": [
        "# Model Creation"
      ],
      "metadata": {
        "id": "niL29J3s-BO9"
      }
    },
    {
      "cell_type": "code",
      "source": [
        "#save the target variable in X->train and Y->test\n",
        "#slpit the dataset to train and test\n",
        "from sklearn.model_selection import train_test_split\n",
        "\n",
        "X = df.drop(['interest_rate'],axis=1).values\n",
        "y = df['interest_rate'].values\n",
        "X_train,X_test,y_train,y_test = train_test_split(X,y,random_state=0)\n"
      ],
      "metadata": {
        "id": "Csq67iDS91F3"
      },
      "execution_count": null,
      "outputs": []
    },
    {
      "cell_type": "code",
      "source": [
        "#Note: I tried first to use all the columns and after that did a PCA on them. \n",
        "#The prediction results was not good so I continue with selecting only the higly correlated attr\n",
        "\n",
        "#PCA: from 50 columns to 3\n",
        "#from sklearn.decomposition import PCA\n",
        "\n",
        "#pca = PCA(n_components=0.95)\n",
        "#X_train = pca.fit_transform(X_train)\n",
        "#X_test = pca.transform(X_test)\n",
        "\n",
        "#X_train.shape"
      ],
      "metadata": {
        "id": "a9bBNiu2AJZ2",
        "colab": {
          "base_uri": "https://localhost:8080/"
        },
        "outputId": "168892ba-564e-4a66-9a1d-30e8411fb4e1"
      },
      "execution_count": null,
      "outputs": [
        {
          "output_type": "execute_result",
          "data": {
            "text/plain": [
              "(7500, 3)"
            ]
          },
          "metadata": {},
          "execution_count": 186
        }
      ]
    },
    {
      "cell_type": "code",
      "source": [
        "from sklearn.metrics import mean_squared_error as mse\n",
        "from sklearn.metrics import r2_score"
      ],
      "metadata": {
        "id": "rCr-6T6UMtCx"
      },
      "execution_count": null,
      "outputs": []
    },
    {
      "cell_type": "markdown",
      "source": [
        "**Random Forest**"
      ],
      "metadata": {
        "id": "AV6XHurkHLlw"
      }
    },
    {
      "cell_type": "code",
      "source": [
        "#MSE\n",
        "from sklearn.ensemble import RandomForestRegressor\n",
        "from sklearn.model_selection import GridSearchCV\n",
        " \n",
        "param_grid = [{'n_estimators':[66, 70,75], 'max_depth':[10,15, 20], 'bootstrap':[True, False], 'max_features':[1, 2, 3]}]\n",
        "forest = RandomForestRegressor()\n",
        "grid_search = GridSearchCV(forest, param_grid, cv=5, scoring=\"neg_mean_squared_error\")\n",
        "grid_search.fit(X_train, y_train)\n",
        "final = grid_search.best_params_\n",
        "print(final)"
      ],
      "metadata": {
        "colab": {
          "base_uri": "https://localhost:8080/"
        },
        "id": "PWfpaoFxN0LP",
        "outputId": "258ddf23-4968-4d9b-9c28-10fd6ceb8c67"
      },
      "execution_count": null,
      "outputs": [
        {
          "output_type": "stream",
          "name": "stdout",
          "text": [
            "{'bootstrap': True, 'max_depth': 20, 'max_features': 2, 'n_estimators': 75}\n"
          ]
        },
        {
          "output_type": "stream",
          "name": "stderr",
          "text": [
            "/usr/local/lib/python3.7/dist-packages/sklearn/model_selection/_validation.py:372: FitFailedWarning: \n",
            "90 fits failed out of a total of 270.\n",
            "The score on these train-test partitions for these parameters will be set to nan.\n",
            "If these failures are not expected, you can try to debug them by setting error_score='raise'.\n",
            "\n",
            "Below are more details about the failures:\n",
            "--------------------------------------------------------------------------------\n",
            "45 fits failed with the following error:\n",
            "Traceback (most recent call last):\n",
            "  File \"/usr/local/lib/python3.7/dist-packages/sklearn/model_selection/_validation.py\", line 680, in _fit_and_score\n",
            "    estimator.fit(X_train, y_train, **fit_params)\n",
            "  File \"/usr/local/lib/python3.7/dist-packages/sklearn/ensemble/_forest.py\", line 467, in fit\n",
            "    for i, t in enumerate(trees)\n",
            "  File \"/usr/local/lib/python3.7/dist-packages/joblib/parallel.py\", line 1043, in __call__\n",
            "    if self.dispatch_one_batch(iterator):\n",
            "  File \"/usr/local/lib/python3.7/dist-packages/joblib/parallel.py\", line 861, in dispatch_one_batch\n",
            "    self._dispatch(tasks)\n",
            "  File \"/usr/local/lib/python3.7/dist-packages/joblib/parallel.py\", line 779, in _dispatch\n",
            "    job = self._backend.apply_async(batch, callback=cb)\n",
            "  File \"/usr/local/lib/python3.7/dist-packages/joblib/_parallel_backends.py\", line 208, in apply_async\n",
            "    result = ImmediateResult(func)\n",
            "  File \"/usr/local/lib/python3.7/dist-packages/joblib/_parallel_backends.py\", line 572, in __init__\n",
            "    self.results = batch()\n",
            "  File \"/usr/local/lib/python3.7/dist-packages/joblib/parallel.py\", line 263, in __call__\n",
            "    for func, args, kwargs in self.items]\n",
            "  File \"/usr/local/lib/python3.7/dist-packages/joblib/parallel.py\", line 263, in <listcomp>\n",
            "    for func, args, kwargs in self.items]\n",
            "  File \"/usr/local/lib/python3.7/dist-packages/sklearn/utils/fixes.py\", line 216, in __call__\n",
            "    return self.function(*args, **kwargs)\n",
            "  File \"/usr/local/lib/python3.7/dist-packages/sklearn/ensemble/_forest.py\", line 185, in _parallel_build_trees\n",
            "    tree.fit(X, y, sample_weight=curr_sample_weight, check_input=False)\n",
            "  File \"/usr/local/lib/python3.7/dist-packages/sklearn/tree/_classes.py\", line 1320, in fit\n",
            "    X_idx_sorted=X_idx_sorted,\n",
            "  File \"/usr/local/lib/python3.7/dist-packages/sklearn/tree/_classes.py\", line 308, in fit\n",
            "    raise ValueError(\"max_features must be in (0, n_features]\")\n",
            "ValueError: max_features must be in (0, n_features]\n",
            "\n",
            "--------------------------------------------------------------------------------\n",
            "45 fits failed with the following error:\n",
            "Traceback (most recent call last):\n",
            "  File \"/usr/local/lib/python3.7/dist-packages/sklearn/model_selection/_validation.py\", line 680, in _fit_and_score\n",
            "    estimator.fit(X_train, y_train, **fit_params)\n",
            "  File \"/usr/local/lib/python3.7/dist-packages/sklearn/ensemble/_forest.py\", line 467, in fit\n",
            "    for i, t in enumerate(trees)\n",
            "  File \"/usr/local/lib/python3.7/dist-packages/joblib/parallel.py\", line 1043, in __call__\n",
            "    if self.dispatch_one_batch(iterator):\n",
            "  File \"/usr/local/lib/python3.7/dist-packages/joblib/parallel.py\", line 861, in dispatch_one_batch\n",
            "    self._dispatch(tasks)\n",
            "  File \"/usr/local/lib/python3.7/dist-packages/joblib/parallel.py\", line 779, in _dispatch\n",
            "    job = self._backend.apply_async(batch, callback=cb)\n",
            "  File \"/usr/local/lib/python3.7/dist-packages/joblib/_parallel_backends.py\", line 208, in apply_async\n",
            "    result = ImmediateResult(func)\n",
            "  File \"/usr/local/lib/python3.7/dist-packages/joblib/_parallel_backends.py\", line 572, in __init__\n",
            "    self.results = batch()\n",
            "  File \"/usr/local/lib/python3.7/dist-packages/joblib/parallel.py\", line 263, in __call__\n",
            "    for func, args, kwargs in self.items]\n",
            "  File \"/usr/local/lib/python3.7/dist-packages/joblib/parallel.py\", line 263, in <listcomp>\n",
            "    for func, args, kwargs in self.items]\n",
            "  File \"/usr/local/lib/python3.7/dist-packages/sklearn/utils/fixes.py\", line 216, in __call__\n",
            "    return self.function(*args, **kwargs)\n",
            "  File \"/usr/local/lib/python3.7/dist-packages/sklearn/ensemble/_forest.py\", line 187, in _parallel_build_trees\n",
            "    tree.fit(X, y, sample_weight=sample_weight, check_input=False)\n",
            "  File \"/usr/local/lib/python3.7/dist-packages/sklearn/tree/_classes.py\", line 1320, in fit\n",
            "    X_idx_sorted=X_idx_sorted,\n",
            "  File \"/usr/local/lib/python3.7/dist-packages/sklearn/tree/_classes.py\", line 308, in fit\n",
            "    raise ValueError(\"max_features must be in (0, n_features]\")\n",
            "ValueError: max_features must be in (0, n_features]\n",
            "\n",
            "  warnings.warn(some_fits_failed_message, FitFailedWarning)\n",
            "/usr/local/lib/python3.7/dist-packages/sklearn/model_selection/_search.py:972: UserWarning: One or more of the test scores are non-finite: [-0.05261473 -0.05254577 -0.05255361 -0.05257648 -0.05255674 -0.05255409\n",
            "         nan         nan         nan -0.05253912 -0.05256233 -0.05256638\n",
            " -0.05260905 -0.05257994 -0.05260925         nan         nan         nan\n",
            " -0.05254777 -0.05260013 -0.05257683 -0.05258287 -0.05258792 -0.05253374\n",
            "         nan         nan         nan -0.05255763 -0.05255763 -0.05255763\n",
            " -0.05255763 -0.05255763 -0.05255763         nan         nan         nan\n",
            " -0.05255763 -0.05255763 -0.05255763 -0.05255763 -0.05255763 -0.05255763\n",
            "         nan         nan         nan -0.05255763 -0.05255763 -0.05255763\n",
            " -0.05255763 -0.05255763 -0.05255763         nan         nan         nan]\n",
            "  category=UserWarning,\n"
          ]
        }
      ]
    },
    {
      "cell_type": "code",
      "source": [
        "rf_pred_mse= grid_search.predict(X_test)\n",
        "print(mse(y_test, rf_pred_mse))"
      ],
      "metadata": {
        "colab": {
          "base_uri": "https://localhost:8080/"
        },
        "id": "G_2UHTLfYUri",
        "outputId": "368ff8c6-4e6f-4a92-f8c2-8461791203e0"
      },
      "execution_count": null,
      "outputs": [
        {
          "output_type": "stream",
          "name": "stdout",
          "text": [
            "0.005989407765100349\n"
          ]
        }
      ]
    },
    {
      "cell_type": "code",
      "source": [
        "#R2\n",
        "\n",
        "from sklearn.ensemble import RandomForestRegressor\n",
        "from sklearn.model_selection import GridSearchCV\n",
        " \n",
        "param_grid = [{'n_estimators':[66, 70,75], 'max_depth':[10,15, 20], 'bootstrap':[True, False], 'max_features':[1, 2, 3]}]\n",
        "forest = RandomForestRegressor()\n",
        "grid_search = GridSearchCV(forest, param_grid, cv=5, scoring=\"r2\")\n",
        "grid_search.fit(X_train, y_train)\n",
        "final = grid_search.best_params_\n",
        "print(final)"
      ],
      "metadata": {
        "colab": {
          "base_uri": "https://localhost:8080/"
        },
        "id": "KGc6KIU3HWPQ",
        "outputId": "045697be-3870-4a4a-ebe7-045566334c4f"
      },
      "execution_count": null,
      "outputs": [
        {
          "output_type": "stream",
          "name": "stdout",
          "text": [
            "{'bootstrap': True, 'max_depth': 20, 'max_features': 2, 'n_estimators': 75}\n"
          ]
        },
        {
          "output_type": "stream",
          "name": "stderr",
          "text": [
            "/usr/local/lib/python3.7/dist-packages/sklearn/model_selection/_validation.py:372: FitFailedWarning: \n",
            "90 fits failed out of a total of 270.\n",
            "The score on these train-test partitions for these parameters will be set to nan.\n",
            "If these failures are not expected, you can try to debug them by setting error_score='raise'.\n",
            "\n",
            "Below are more details about the failures:\n",
            "--------------------------------------------------------------------------------\n",
            "45 fits failed with the following error:\n",
            "Traceback (most recent call last):\n",
            "  File \"/usr/local/lib/python3.7/dist-packages/sklearn/model_selection/_validation.py\", line 680, in _fit_and_score\n",
            "    estimator.fit(X_train, y_train, **fit_params)\n",
            "  File \"/usr/local/lib/python3.7/dist-packages/sklearn/ensemble/_forest.py\", line 467, in fit\n",
            "    for i, t in enumerate(trees)\n",
            "  File \"/usr/local/lib/python3.7/dist-packages/joblib/parallel.py\", line 1043, in __call__\n",
            "    if self.dispatch_one_batch(iterator):\n",
            "  File \"/usr/local/lib/python3.7/dist-packages/joblib/parallel.py\", line 861, in dispatch_one_batch\n",
            "    self._dispatch(tasks)\n",
            "  File \"/usr/local/lib/python3.7/dist-packages/joblib/parallel.py\", line 779, in _dispatch\n",
            "    job = self._backend.apply_async(batch, callback=cb)\n",
            "  File \"/usr/local/lib/python3.7/dist-packages/joblib/_parallel_backends.py\", line 208, in apply_async\n",
            "    result = ImmediateResult(func)\n",
            "  File \"/usr/local/lib/python3.7/dist-packages/joblib/_parallel_backends.py\", line 572, in __init__\n",
            "    self.results = batch()\n",
            "  File \"/usr/local/lib/python3.7/dist-packages/joblib/parallel.py\", line 263, in __call__\n",
            "    for func, args, kwargs in self.items]\n",
            "  File \"/usr/local/lib/python3.7/dist-packages/joblib/parallel.py\", line 263, in <listcomp>\n",
            "    for func, args, kwargs in self.items]\n",
            "  File \"/usr/local/lib/python3.7/dist-packages/sklearn/utils/fixes.py\", line 216, in __call__\n",
            "    return self.function(*args, **kwargs)\n",
            "  File \"/usr/local/lib/python3.7/dist-packages/sklearn/ensemble/_forest.py\", line 185, in _parallel_build_trees\n",
            "    tree.fit(X, y, sample_weight=curr_sample_weight, check_input=False)\n",
            "  File \"/usr/local/lib/python3.7/dist-packages/sklearn/tree/_classes.py\", line 1320, in fit\n",
            "    X_idx_sorted=X_idx_sorted,\n",
            "  File \"/usr/local/lib/python3.7/dist-packages/sklearn/tree/_classes.py\", line 308, in fit\n",
            "    raise ValueError(\"max_features must be in (0, n_features]\")\n",
            "ValueError: max_features must be in (0, n_features]\n",
            "\n",
            "--------------------------------------------------------------------------------\n",
            "45 fits failed with the following error:\n",
            "Traceback (most recent call last):\n",
            "  File \"/usr/local/lib/python3.7/dist-packages/sklearn/model_selection/_validation.py\", line 680, in _fit_and_score\n",
            "    estimator.fit(X_train, y_train, **fit_params)\n",
            "  File \"/usr/local/lib/python3.7/dist-packages/sklearn/ensemble/_forest.py\", line 467, in fit\n",
            "    for i, t in enumerate(trees)\n",
            "  File \"/usr/local/lib/python3.7/dist-packages/joblib/parallel.py\", line 1043, in __call__\n",
            "    if self.dispatch_one_batch(iterator):\n",
            "  File \"/usr/local/lib/python3.7/dist-packages/joblib/parallel.py\", line 861, in dispatch_one_batch\n",
            "    self._dispatch(tasks)\n",
            "  File \"/usr/local/lib/python3.7/dist-packages/joblib/parallel.py\", line 779, in _dispatch\n",
            "    job = self._backend.apply_async(batch, callback=cb)\n",
            "  File \"/usr/local/lib/python3.7/dist-packages/joblib/_parallel_backends.py\", line 208, in apply_async\n",
            "    result = ImmediateResult(func)\n",
            "  File \"/usr/local/lib/python3.7/dist-packages/joblib/_parallel_backends.py\", line 572, in __init__\n",
            "    self.results = batch()\n",
            "  File \"/usr/local/lib/python3.7/dist-packages/joblib/parallel.py\", line 263, in __call__\n",
            "    for func, args, kwargs in self.items]\n",
            "  File \"/usr/local/lib/python3.7/dist-packages/joblib/parallel.py\", line 263, in <listcomp>\n",
            "    for func, args, kwargs in self.items]\n",
            "  File \"/usr/local/lib/python3.7/dist-packages/sklearn/utils/fixes.py\", line 216, in __call__\n",
            "    return self.function(*args, **kwargs)\n",
            "  File \"/usr/local/lib/python3.7/dist-packages/sklearn/ensemble/_forest.py\", line 187, in _parallel_build_trees\n",
            "    tree.fit(X, y, sample_weight=sample_weight, check_input=False)\n",
            "  File \"/usr/local/lib/python3.7/dist-packages/sklearn/tree/_classes.py\", line 1320, in fit\n",
            "    X_idx_sorted=X_idx_sorted,\n",
            "  File \"/usr/local/lib/python3.7/dist-packages/sklearn/tree/_classes.py\", line 308, in fit\n",
            "    raise ValueError(\"max_features must be in (0, n_features]\")\n",
            "ValueError: max_features must be in (0, n_features]\n",
            "\n",
            "  warnings.warn(some_fits_failed_message, FitFailedWarning)\n",
            "/usr/local/lib/python3.7/dist-packages/sklearn/model_selection/_search.py:972: UserWarning: One or more of the test scores are non-finite: [0.99786099 0.99786162 0.99786301 0.99786289 0.99786339 0.99786332\n",
            "        nan        nan        nan 0.99786409 0.99786245 0.99786286\n",
            " 0.99786321 0.99786257 0.99786403        nan        nan        nan\n",
            " 0.99786169 0.99786253 0.99786162 0.99786277 0.99786363 0.99786531\n",
            "        nan        nan        nan 0.99786389 0.99786389 0.99786389\n",
            " 0.99786389 0.99786389 0.99786389        nan        nan        nan\n",
            " 0.99786389 0.99786389 0.99786389 0.99786389 0.99786389 0.99786389\n",
            "        nan        nan        nan 0.99786389 0.99786389 0.99786389\n",
            " 0.99786389 0.99786389 0.99786389        nan        nan        nan]\n",
            "  category=UserWarning,\n"
          ]
        }
      ]
    },
    {
      "cell_type": "code",
      "source": [
        "rf_pred_r2= grid_search.predict(X_test)\n",
        "print(r2(y_test, rf_pred_r2))"
      ],
      "metadata": {
        "colab": {
          "base_uri": "https://localhost:8080/"
        },
        "id": "QGLpCLdbHZaQ",
        "outputId": "2fd95718-0188-4f36-be0a-6cc2378b16de"
      },
      "execution_count": null,
      "outputs": [
        {
          "output_type": "stream",
          "name": "stdout",
          "text": [
            "0.9997565357447327\n"
          ]
        }
      ]
    },
    {
      "cell_type": "markdown",
      "source": [
        "**KNN for Regression**"
      ],
      "metadata": {
        "id": "1A2UzZbVIG3Z"
      }
    },
    {
      "cell_type": "code",
      "source": [
        "#MSE\n",
        "from sklearn.neighbors import KNeighborsRegressor    \n",
        "from sklearn.model_selection import GridSearchCV\n",
        "    \n",
        "model = KNeighborsRegressor()\n",
        "param_grid = {'n_neighbors':[45,50,55], 'weights':['uniform', 'distance']}\n",
        "grid_search = GridSearchCV(model, param_grid, scoring=\"neg_mean_squared_error\", cv=5)\n",
        "grid_search.fit(X_train, y_train)\n",
        "final=grid_search.best_params_\n",
        "print(final)"
      ],
      "metadata": {
        "colab": {
          "base_uri": "https://localhost:8080/"
        },
        "id": "6seAosQ1RX8P",
        "outputId": "4b8b15b6-e412-4b4c-b9bd-47a2df3e7cd6"
      },
      "execution_count": null,
      "outputs": [
        {
          "output_type": "stream",
          "name": "stdout",
          "text": [
            "{'n_neighbors': 50, 'weights': 'distance'}\n"
          ]
        }
      ]
    },
    {
      "cell_type": "code",
      "source": [
        "knn_pred_mse= grid_search.predict(X_test)\n",
        "print(mse(y_test, knn_pred_mse))"
      ],
      "metadata": {
        "colab": {
          "base_uri": "https://localhost:8080/"
        },
        "id": "eYmSTxToNOLM",
        "outputId": "2b5729c5-0d6a-4be9-8600-8fb26e33b319"
      },
      "execution_count": null,
      "outputs": [
        {
          "output_type": "stream",
          "name": "stdout",
          "text": [
            "0.005922309190333349\n"
          ]
        }
      ]
    },
    {
      "cell_type": "code",
      "source": [
        "#R2\n",
        "model = KNeighborsRegressor()\n",
        "param_grid = {'n_neighbors':[45,50,55], 'weights':['uniform', 'distance']}\n",
        "grid_search = GridSearchCV(model, param_grid, scoring=\"r2\", cv=5)\n",
        "grid_search.fit(X_train, y_train)\n",
        "final=grid_search.best_params_\n",
        "print(final)"
      ],
      "metadata": {
        "colab": {
          "base_uri": "https://localhost:8080/"
        },
        "id": "MuQk5T73IOJN",
        "outputId": "e7258a6c-c916-4e62-8dba-d6b666264908"
      },
      "execution_count": null,
      "outputs": [
        {
          "output_type": "stream",
          "name": "stdout",
          "text": [
            "{'n_neighbors': 50, 'weights': 'distance'}\n"
          ]
        }
      ]
    },
    {
      "cell_type": "code",
      "source": [
        "knn_pred_r2= grid_search.predict(X_test)\n",
        "print(r2(y_test, knn_pred_mse))"
      ],
      "metadata": {
        "colab": {
          "base_uri": "https://localhost:8080/"
        },
        "id": "NJF3ZoqNIUKL",
        "outputId": "3f78a1ea-ae61-4a60-beb8-17a0cac31876"
      },
      "execution_count": null,
      "outputs": [
        {
          "output_type": "stream",
          "name": "stdout",
          "text": [
            "0.999760427255012\n"
          ]
        }
      ]
    },
    {
      "cell_type": "markdown",
      "source": [
        "**SVM**"
      ],
      "metadata": {
        "id": "KzRHfYLNIajI"
      }
    },
    {
      "cell_type": "code",
      "source": [
        "#MSE\n",
        "from sklearn.model_selection import RandomizedSearchCV\n",
        "from sklearn.svm import SVR\n",
        "svr = SVR()\n",
        "\n",
        "param_grid = {'kernel':['rbf', 'sigmoid', 'poly', 'linear'], 'C':[ 1,1.2,1.5]}\n",
        "n_iter = 2\n",
        "rsv = RandomizedSearchCV(svr, param_grid, n_iter=n_iter, scoring=\"neg_mean_squared_error\")\n",
        "rsv.fit(X_train, y_train)\n",
        "final = rsv.best_params_\n",
        "print(final)\n"
      ],
      "metadata": {
        "colab": {
          "base_uri": "https://localhost:8080/"
        },
        "id": "JzuxL5l7_QK8",
        "outputId": "c4854746-9812-4fa6-d4d7-058887514008"
      },
      "execution_count": null,
      "outputs": [
        {
          "output_type": "stream",
          "name": "stdout",
          "text": [
            "{'kernel': 'poly', 'C': 1}\n"
          ]
        }
      ]
    },
    {
      "cell_type": "code",
      "source": [
        "svm_pred_mse= grid_search.predict(X_test)\n",
        "print(mse(y_test, svm_pred_mse))"
      ],
      "metadata": {
        "colab": {
          "base_uri": "https://localhost:8080/"
        },
        "id": "HYBhgQCd_wPq",
        "outputId": "48e72420-d344-4fe6-fda7-828ebd7dc84b"
      },
      "execution_count": null,
      "outputs": [
        {
          "output_type": "stream",
          "name": "stdout",
          "text": [
            "0.005922309190333349\n"
          ]
        }
      ]
    },
    {
      "cell_type": "code",
      "source": [
        "#R2\n",
        "from sklearn.svm import SVR\n",
        "svr = SVR()\n",
        "\n",
        "param_grid = {'kernel':['rbf', 'sigmoid', 'poly', 'linear'], 'C':[ 1,1.2,1.5]}\n",
        "n_iter = 2\n",
        "rsv = RandomizedSearchCV(svr, param_grid, n_iter=n_iter, scoring=\"r2\")\n",
        "rsv.fit(X_train, y_train)\n",
        "final = rsv.best_params_\n",
        "print(final)"
      ],
      "metadata": {
        "colab": {
          "base_uri": "https://localhost:8080/"
        },
        "id": "HHrmhjwAImiO",
        "outputId": "d79a2bb0-40aa-462c-da7f-a437b0395c13"
      },
      "execution_count": null,
      "outputs": [
        {
          "output_type": "stream",
          "name": "stdout",
          "text": [
            "{'kernel': 'rbf', 'C': 1.5}\n"
          ]
        }
      ]
    },
    {
      "cell_type": "code",
      "source": [
        "svm_pred_R2= grid_search.predict(X_test)\n",
        "print(r2(y_test, svm_pred_R2))"
      ],
      "metadata": {
        "colab": {
          "base_uri": "https://localhost:8080/"
        },
        "id": "Cb8D_52eIri7",
        "outputId": "0afbe0c4-6c09-49d6-d17b-4451aa2cdc4a"
      },
      "execution_count": null,
      "outputs": [
        {
          "output_type": "stream",
          "name": "stdout",
          "text": [
            "0.999760427255012\n"
          ]
        }
      ]
    },
    {
      "cell_type": "markdown",
      "source": [
        "# Results and proposed analysis"
      ],
      "metadata": {
        "id": "gU9RkQvcAajw"
      }
    },
    {
      "cell_type": "code",
      "source": [
        "from typing import MutableSet\n",
        "#viz the 3 mse to show how small they are\n",
        "  \n",
        "# creating the dataset\n",
        "data = {'Random Forest':0.005989407765100349, 'K-NN':0.005922309190333349\n",
        ", 'SVM':0.005922309190333349}\n",
        "Models = list(data.keys())\n",
        "MSE = list(data.values())\n",
        "  \n",
        "fig = plt.figure(figsize = (10, 5))\n",
        " \n",
        "# creating the bar plot\n",
        "plt.bar(Models, MSE, color ='maroon',\n",
        "        width = 0.4)\n",
        " \n",
        "plt.xlabel(\"Models use for prediction of Interest Rate\")\n",
        "plt.ylabel(\"MSE\")\n",
        "plt.title(\"Results\")\n",
        "plt.grid(False)\n",
        "plt.show()"
      ],
      "metadata": {
        "colab": {
          "base_uri": "https://localhost:8080/",
          "height": 355
        },
        "id": "3zEsIZYlBKWn",
        "outputId": "fad67709-3d19-4d9f-eb19-92b15104521a"
      },
      "execution_count": null,
      "outputs": [
        {
          "output_type": "display_data",
          "data": {
            "text/plain": [
              "<Figure size 720x360 with 1 Axes>"
            ],
            "image/png": "[encoded data removed]"
          },
          "metadata": {}
        }
      ]
    },
    {
      "cell_type": "code",
      "source": [
        "from typing import MutableSet\n",
        "#viz the 3 r2 to show how big they are\n",
        "  \n",
        "# creating the dataset\n",
        "data = {'Random Forest':0.9997565357447327, 'K-NN':0.999760427255012, 'SVM':0.999760427255012}\n",
        "Models = list(data.keys())\n",
        "MSE = list(data.values())\n",
        "  \n",
        "fig = plt.figure(figsize = (10, 5))\n",
        " \n",
        "# creating the bar plot\n",
        "plt.bar(Models, MSE, color ='maroon',\n",
        "        width = 0.4)\n",
        " \n",
        "plt.xlabel(\"Models use for prediction of Interest Rate\")\n",
        "plt.ylabel(\"R2\")\n",
        "plt.title(\"Results\")\n",
        "plt.grid(False)\n",
        "plt.show()"
      ],
      "metadata": {
        "colab": {
          "base_uri": "https://localhost:8080/",
          "height": 355
        },
        "id": "rwVdQLkJI4jB",
        "outputId": "d7a1cea8-bbc9-46bc-9212-d5a1698f4355"
      },
      "execution_count": null,
      "outputs": [
        {
          "output_type": "display_data",
          "data": {
            "text/plain": [
              "<Figure size 720x360 with 1 Axes>"
            ],
            "image/png": "[encoded data removed]"
          },
          "metadata": {}
        }
      ]
    },
    {
      "cell_type": "code",
      "source": [
        "#Extra explanation for SVM\n",
        "#from the bellow chart for example for svm we can understand that the predicted and the truth values are almost equal\n",
        "#because they fit in the diagonial line\n",
        "\n",
        "x_plot=[0,50]\n",
        "y_plot=[0,50]\n",
        "plt.plot(x_plot,y_plot,color='green')\n",
        "plt.scatter(y_test, svm_pred_R2, color='maroon')\n",
        "plt.title(\"Y-True vs Y-Predicted\")\n",
        "plt.xlabel(\"Truth\")\n",
        "plt.ylabel(\"Prediction\")\n",
        "plt.grid(False)\n",
        "plt.show()"
      ],
      "metadata": {
        "colab": {
          "base_uri": "https://localhost:8080/",
          "height": 355
        },
        "id": "0Aj3rKfYA6xX",
        "outputId": "b258cfea-35f9-4f2a-e352-cc58bc31d060"
      },
      "execution_count": null,
      "outputs": [
        {
          "output_type": "display_data",
          "data": {
            "text/plain": [
              "<Figure size 576x360 with 1 Axes>"
            ],
            "image/png": "[encoded data removed]"
          },
          "metadata": {}
        }
      ]
    },
    {
      "cell_type": "markdown",
      "source": [
        "**Output:**\n",
        "As we can see from the two bar chart we have both good R^2 and MSE results. In order to enchance them more I will do the followings:\n",
        "\n",
        "*   Outlier check: (box plot, z-score ... ) \n",
        "*   Missing data instead of median with regression\n",
        "*   Bootstrapping techniques\n",
        "*   Run more models like: Neural Networks, Ridge Regressor etc\n",
        "*   Better Hyperparameter tuning\n",
        "\n"
      ],
      "metadata": {
        "id": "ruieGb66K5s_"
      }
    }
  ]
}